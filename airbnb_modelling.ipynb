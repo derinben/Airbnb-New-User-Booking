{
  "cells": [
    {
      "cell_type": "markdown",
      "metadata": {
        "id": "0b11mpFwR6hN"
      },
      "source": [
        "# 1. Imports"
      ]
    },
    {
      "cell_type": "code",
      "execution_count": null,
      "metadata": {
        "id": "0t31OcGBR6hO"
      },
      "outputs": [],
      "source": [
        "import numpy as np \n",
        "import matplotlib.pyplot as plt \n",
        "import seaborn as sns\n",
        "import re\n",
        "from datetime import datetime\n",
        "from copy import deepcopy\n",
        "import pandas as pd\n",
        "import xgboost\n",
        "import plotly.express as px\n",
        "from sklearn.metrics import make_scorer\n",
        "from sklearn.preprocessing import LabelEncoder\n",
        "from sklearn.model_selection import StratifiedKFold\n",
        "from xgboost import XGBClassifier\n",
        "from sklearn.metrics import ndcg_score, precision_score, recall_score, f1_score\n",
        "pd.get_option(\"display.max_columns\");"
      ]
    },
    {
      "cell_type": "code",
      "execution_count": null,
      "metadata": {
        "id": "nGMvc4MbfNIN"
      },
      "outputs": [],
      "source": [
        "from google.colab import drive\n",
        "drive.mount('/content/drive')"
      ]
    },
    {
      "cell_type": "code",
      "execution_count": null,
      "metadata": {
        "id": "hr0TheilR6hP"
      },
      "outputs": [],
      "source": [
        "# Kindly change the link to data file \n",
        "sessions = pd.read_csv(r\"/content/drive/MyDrive/AML-Airbnb/dataset/sessions.csv\")\n",
        "train_users = pd.read_csv(r'/content/drive/MyDrive/AML-Airbnb/dataset/train_users_2.csv')\n",
        "test_users = pd.read_csv(r'/content/drive/MyDrive/AML-Airbnb/dataset/test_users.csv')"
      ]
    },
    {
      "cell_type": "markdown",
      "metadata": {
        "id": "ItVMcQj13c3v"
      },
      "source": [
        "# 2. Dataset "
      ]
    },
    {
      "cell_type": "markdown",
      "metadata": {
        "id": "zDnbzoYGR6hP"
      },
      "source": [
        "## Session Dataset "
      ]
    },
    {
      "cell_type": "code",
      "execution_count": null,
      "metadata": {
        "colab": {
          "base_uri": "https://localhost:8080/",
          "height": 224
        },
        "id": "fOvf1d2mR6hP",
        "outputId": "e01791ac-09d6-45ab-9a98-c5c1e2cbff84"
      },
      "outputs": [
        {
          "name": "stdout",
          "output_type": "stream",
          "text": [
            "10567737\n"
          ]
        },
        {
          "data": {
            "text/html": [
              "<div>\n",
              "<style scoped>\n",
              "    .dataframe tbody tr th:only-of-type {\n",
              "        vertical-align: middle;\n",
              "    }\n",
              "\n",
              "    .dataframe tbody tr th {\n",
              "        vertical-align: top;\n",
              "    }\n",
              "\n",
              "    .dataframe thead th {\n",
              "        text-align: right;\n",
              "    }\n",
              "</style>\n",
              "<table border=\"1\" class=\"dataframe\">\n",
              "  <thead>\n",
              "    <tr style=\"text-align: right;\">\n",
              "      <th></th>\n",
              "      <th>user_id</th>\n",
              "      <th>action</th>\n",
              "      <th>action_type</th>\n",
              "      <th>action_detail</th>\n",
              "      <th>device_type</th>\n",
              "      <th>secs_elapsed</th>\n",
              "    </tr>\n",
              "  </thead>\n",
              "  <tbody>\n",
              "    <tr>\n",
              "      <th>0</th>\n",
              "      <td>d1mm9tcy42</td>\n",
              "      <td>lookup</td>\n",
              "      <td>NaN</td>\n",
              "      <td>NaN</td>\n",
              "      <td>Windows Desktop</td>\n",
              "      <td>319.0</td>\n",
              "    </tr>\n",
              "    <tr>\n",
              "      <th>1</th>\n",
              "      <td>d1mm9tcy42</td>\n",
              "      <td>search_results</td>\n",
              "      <td>click</td>\n",
              "      <td>view_search_results</td>\n",
              "      <td>Windows Desktop</td>\n",
              "      <td>67753.0</td>\n",
              "    </tr>\n",
              "    <tr>\n",
              "      <th>2</th>\n",
              "      <td>d1mm9tcy42</td>\n",
              "      <td>lookup</td>\n",
              "      <td>NaN</td>\n",
              "      <td>NaN</td>\n",
              "      <td>Windows Desktop</td>\n",
              "      <td>301.0</td>\n",
              "    </tr>\n",
              "    <tr>\n",
              "      <th>3</th>\n",
              "      <td>d1mm9tcy42</td>\n",
              "      <td>search_results</td>\n",
              "      <td>click</td>\n",
              "      <td>view_search_results</td>\n",
              "      <td>Windows Desktop</td>\n",
              "      <td>22141.0</td>\n",
              "    </tr>\n",
              "    <tr>\n",
              "      <th>4</th>\n",
              "      <td>d1mm9tcy42</td>\n",
              "      <td>lookup</td>\n",
              "      <td>NaN</td>\n",
              "      <td>NaN</td>\n",
              "      <td>Windows Desktop</td>\n",
              "      <td>435.0</td>\n",
              "    </tr>\n",
              "  </tbody>\n",
              "</table>\n",
              "</div>"
            ],
            "text/plain": [
              "      user_id          action action_type        action_detail  \\\n",
              "0  d1mm9tcy42          lookup         NaN                  NaN   \n",
              "1  d1mm9tcy42  search_results       click  view_search_results   \n",
              "2  d1mm9tcy42          lookup         NaN                  NaN   \n",
              "3  d1mm9tcy42  search_results       click  view_search_results   \n",
              "4  d1mm9tcy42          lookup         NaN                  NaN   \n",
              "\n",
              "       device_type  secs_elapsed  \n",
              "0  Windows Desktop         319.0  \n",
              "1  Windows Desktop       67753.0  \n",
              "2  Windows Desktop         301.0  \n",
              "3  Windows Desktop       22141.0  \n",
              "4  Windows Desktop         435.0  "
            ]
          },
          "execution_count": 32,
          "metadata": {},
          "output_type": "execute_result"
        }
      ],
      "source": [
        "print(len(sessions))\n",
        "sessions.head()"
      ]
    },
    {
      "cell_type": "code",
      "execution_count": null,
      "metadata": {
        "colab": {
          "base_uri": "https://localhost:8080/"
        },
        "id": "bj0zHynaR6hQ",
        "outputId": "d4e11251-c16f-4daa-a423-2385c78658a2"
      },
      "outputs": [
        {
          "name": "stdout",
          "output_type": "stream",
          "text": [
            " user_id contains 0.3264275028797556 null values\n",
            " action contains 0.7534820368826363 null values\n",
            " action_type contains 10.657002535169072 null values\n",
            " action_detail contains 10.657002535169072 null values\n",
            " device_type contains 0.0 null values\n",
            " secs_elapsed contains 1.2872292336571207 null values\n"
          ]
        }
      ],
      "source": [
        "for ele in sessions.columns:\n",
        "    print(\" {} contains {} null values\".format(ele,  (sum(sessions[ele].isnull()) / len(sessions)) * 100)) "
      ]
    },
    {
      "cell_type": "markdown",
      "metadata": {
        "id": "EhokE0waR6hQ"
      },
      "source": [
        "## Users Dataset"
      ]
    },
    {
      "cell_type": "code",
      "execution_count": null,
      "metadata": {
        "colab": {
          "base_uri": "https://localhost:8080/",
          "height": 224
        },
        "id": "FAtABM00R6hQ",
        "outputId": "0221a5a3-ecd4-437a-d029-86f05170656d"
      },
      "outputs": [
        {
          "name": "stdout",
          "output_type": "stream",
          "text": [
            "213451\n"
          ]
        },
        {
          "data": {
            "text/html": [
              "<div>\n",
              "<style scoped>\n",
              "    .dataframe tbody tr th:only-of-type {\n",
              "        vertical-align: middle;\n",
              "    }\n",
              "\n",
              "    .dataframe tbody tr th {\n",
              "        vertical-align: top;\n",
              "    }\n",
              "\n",
              "    .dataframe thead th {\n",
              "        text-align: right;\n",
              "    }\n",
              "</style>\n",
              "<table border=\"1\" class=\"dataframe\">\n",
              "  <thead>\n",
              "    <tr style=\"text-align: right;\">\n",
              "      <th></th>\n",
              "      <th>id</th>\n",
              "      <th>date_account_created</th>\n",
              "      <th>timestamp_first_active</th>\n",
              "      <th>date_first_booking</th>\n",
              "      <th>gender</th>\n",
              "      <th>age</th>\n",
              "      <th>signup_method</th>\n",
              "      <th>signup_flow</th>\n",
              "      <th>language</th>\n",
              "      <th>affiliate_channel</th>\n",
              "      <th>affiliate_provider</th>\n",
              "      <th>first_affiliate_tracked</th>\n",
              "      <th>signup_app</th>\n",
              "      <th>first_device_type</th>\n",
              "      <th>first_browser</th>\n",
              "      <th>country_destination</th>\n",
              "    </tr>\n",
              "  </thead>\n",
              "  <tbody>\n",
              "    <tr>\n",
              "      <th>0</th>\n",
              "      <td>gxn3p5htnn</td>\n",
              "      <td>2010-06-28</td>\n",
              "      <td>20090319043255</td>\n",
              "      <td>NaN</td>\n",
              "      <td>-unknown-</td>\n",
              "      <td>NaN</td>\n",
              "      <td>facebook</td>\n",
              "      <td>0</td>\n",
              "      <td>en</td>\n",
              "      <td>direct</td>\n",
              "      <td>direct</td>\n",
              "      <td>untracked</td>\n",
              "      <td>Web</td>\n",
              "      <td>Mac Desktop</td>\n",
              "      <td>Chrome</td>\n",
              "      <td>NDF</td>\n",
              "    </tr>\n",
              "    <tr>\n",
              "      <th>1</th>\n",
              "      <td>820tgsjxq7</td>\n",
              "      <td>2011-05-25</td>\n",
              "      <td>20090523174809</td>\n",
              "      <td>NaN</td>\n",
              "      <td>MALE</td>\n",
              "      <td>38.0</td>\n",
              "      <td>facebook</td>\n",
              "      <td>0</td>\n",
              "      <td>en</td>\n",
              "      <td>seo</td>\n",
              "      <td>google</td>\n",
              "      <td>untracked</td>\n",
              "      <td>Web</td>\n",
              "      <td>Mac Desktop</td>\n",
              "      <td>Chrome</td>\n",
              "      <td>NDF</td>\n",
              "    </tr>\n",
              "    <tr>\n",
              "      <th>2</th>\n",
              "      <td>4ft3gnwmtx</td>\n",
              "      <td>2010-09-28</td>\n",
              "      <td>20090609231247</td>\n",
              "      <td>2010-08-02</td>\n",
              "      <td>FEMALE</td>\n",
              "      <td>56.0</td>\n",
              "      <td>basic</td>\n",
              "      <td>3</td>\n",
              "      <td>en</td>\n",
              "      <td>direct</td>\n",
              "      <td>direct</td>\n",
              "      <td>untracked</td>\n",
              "      <td>Web</td>\n",
              "      <td>Windows Desktop</td>\n",
              "      <td>IE</td>\n",
              "      <td>US</td>\n",
              "    </tr>\n",
              "    <tr>\n",
              "      <th>3</th>\n",
              "      <td>bjjt8pjhuk</td>\n",
              "      <td>2011-12-05</td>\n",
              "      <td>20091031060129</td>\n",
              "      <td>2012-09-08</td>\n",
              "      <td>FEMALE</td>\n",
              "      <td>42.0</td>\n",
              "      <td>facebook</td>\n",
              "      <td>0</td>\n",
              "      <td>en</td>\n",
              "      <td>direct</td>\n",
              "      <td>direct</td>\n",
              "      <td>untracked</td>\n",
              "      <td>Web</td>\n",
              "      <td>Mac Desktop</td>\n",
              "      <td>Firefox</td>\n",
              "      <td>other</td>\n",
              "    </tr>\n",
              "    <tr>\n",
              "      <th>4</th>\n",
              "      <td>87mebub9p4</td>\n",
              "      <td>2010-09-14</td>\n",
              "      <td>20091208061105</td>\n",
              "      <td>2010-02-18</td>\n",
              "      <td>-unknown-</td>\n",
              "      <td>41.0</td>\n",
              "      <td>basic</td>\n",
              "      <td>0</td>\n",
              "      <td>en</td>\n",
              "      <td>direct</td>\n",
              "      <td>direct</td>\n",
              "      <td>untracked</td>\n",
              "      <td>Web</td>\n",
              "      <td>Mac Desktop</td>\n",
              "      <td>Chrome</td>\n",
              "      <td>US</td>\n",
              "    </tr>\n",
              "  </tbody>\n",
              "</table>\n",
              "</div>"
            ],
            "text/plain": [
              "           id date_account_created  timestamp_first_active date_first_booking  \\\n",
              "0  gxn3p5htnn           2010-06-28          20090319043255                NaN   \n",
              "1  820tgsjxq7           2011-05-25          20090523174809                NaN   \n",
              "2  4ft3gnwmtx           2010-09-28          20090609231247         2010-08-02   \n",
              "3  bjjt8pjhuk           2011-12-05          20091031060129         2012-09-08   \n",
              "4  87mebub9p4           2010-09-14          20091208061105         2010-02-18   \n",
              "\n",
              "      gender   age signup_method  signup_flow language affiliate_channel  \\\n",
              "0  -unknown-   NaN      facebook            0       en            direct   \n",
              "1       MALE  38.0      facebook            0       en               seo   \n",
              "2     FEMALE  56.0         basic            3       en            direct   \n",
              "3     FEMALE  42.0      facebook            0       en            direct   \n",
              "4  -unknown-  41.0         basic            0       en            direct   \n",
              "\n",
              "  affiliate_provider first_affiliate_tracked signup_app first_device_type  \\\n",
              "0             direct               untracked        Web       Mac Desktop   \n",
              "1             google               untracked        Web       Mac Desktop   \n",
              "2             direct               untracked        Web   Windows Desktop   \n",
              "3             direct               untracked        Web       Mac Desktop   \n",
              "4             direct               untracked        Web       Mac Desktop   \n",
              "\n",
              "  first_browser country_destination  \n",
              "0        Chrome                 NDF  \n",
              "1        Chrome                 NDF  \n",
              "2            IE                  US  \n",
              "3       Firefox               other  \n",
              "4        Chrome                  US  "
            ]
          },
          "execution_count": 34,
          "metadata": {},
          "output_type": "execute_result"
        }
      ],
      "source": [
        "print(len(train_users))\n",
        "train_users.head()"
      ]
    },
    {
      "cell_type": "code",
      "execution_count": null,
      "metadata": {
        "colab": {
          "base_uri": "https://localhost:8080/",
          "height": 206
        },
        "id": "23eJUvzWR6hR",
        "outputId": "8bd9295c-c9a9-4cfc-875f-b4bd8d568189"
      },
      "outputs": [
        {
          "data": {
            "text/html": [
              "<div>\n",
              "<style scoped>\n",
              "    .dataframe tbody tr th:only-of-type {\n",
              "        vertical-align: middle;\n",
              "    }\n",
              "\n",
              "    .dataframe tbody tr th {\n",
              "        vertical-align: top;\n",
              "    }\n",
              "\n",
              "    .dataframe thead th {\n",
              "        text-align: right;\n",
              "    }\n",
              "</style>\n",
              "<table border=\"1\" class=\"dataframe\">\n",
              "  <thead>\n",
              "    <tr style=\"text-align: right;\">\n",
              "      <th></th>\n",
              "      <th>id</th>\n",
              "      <th>date_account_created</th>\n",
              "      <th>timestamp_first_active</th>\n",
              "      <th>date_first_booking</th>\n",
              "      <th>gender</th>\n",
              "      <th>age</th>\n",
              "      <th>signup_method</th>\n",
              "      <th>signup_flow</th>\n",
              "      <th>language</th>\n",
              "      <th>affiliate_channel</th>\n",
              "      <th>affiliate_provider</th>\n",
              "      <th>first_affiliate_tracked</th>\n",
              "      <th>signup_app</th>\n",
              "      <th>first_device_type</th>\n",
              "      <th>first_browser</th>\n",
              "    </tr>\n",
              "  </thead>\n",
              "  <tbody>\n",
              "    <tr>\n",
              "      <th>0</th>\n",
              "      <td>5uwns89zht</td>\n",
              "      <td>2014-07-01</td>\n",
              "      <td>20140701000006</td>\n",
              "      <td>NaN</td>\n",
              "      <td>FEMALE</td>\n",
              "      <td>35.0</td>\n",
              "      <td>facebook</td>\n",
              "      <td>0</td>\n",
              "      <td>en</td>\n",
              "      <td>direct</td>\n",
              "      <td>direct</td>\n",
              "      <td>untracked</td>\n",
              "      <td>Moweb</td>\n",
              "      <td>iPhone</td>\n",
              "      <td>Mobile Safari</td>\n",
              "    </tr>\n",
              "    <tr>\n",
              "      <th>1</th>\n",
              "      <td>jtl0dijy2j</td>\n",
              "      <td>2014-07-01</td>\n",
              "      <td>20140701000051</td>\n",
              "      <td>NaN</td>\n",
              "      <td>-unknown-</td>\n",
              "      <td>NaN</td>\n",
              "      <td>basic</td>\n",
              "      <td>0</td>\n",
              "      <td>en</td>\n",
              "      <td>direct</td>\n",
              "      <td>direct</td>\n",
              "      <td>untracked</td>\n",
              "      <td>Moweb</td>\n",
              "      <td>iPhone</td>\n",
              "      <td>Mobile Safari</td>\n",
              "    </tr>\n",
              "    <tr>\n",
              "      <th>2</th>\n",
              "      <td>xx0ulgorjt</td>\n",
              "      <td>2014-07-01</td>\n",
              "      <td>20140701000148</td>\n",
              "      <td>NaN</td>\n",
              "      <td>-unknown-</td>\n",
              "      <td>NaN</td>\n",
              "      <td>basic</td>\n",
              "      <td>0</td>\n",
              "      <td>en</td>\n",
              "      <td>direct</td>\n",
              "      <td>direct</td>\n",
              "      <td>linked</td>\n",
              "      <td>Web</td>\n",
              "      <td>Windows Desktop</td>\n",
              "      <td>Chrome</td>\n",
              "    </tr>\n",
              "    <tr>\n",
              "      <th>3</th>\n",
              "      <td>6c6puo6ix0</td>\n",
              "      <td>2014-07-01</td>\n",
              "      <td>20140701000215</td>\n",
              "      <td>NaN</td>\n",
              "      <td>-unknown-</td>\n",
              "      <td>NaN</td>\n",
              "      <td>basic</td>\n",
              "      <td>0</td>\n",
              "      <td>en</td>\n",
              "      <td>direct</td>\n",
              "      <td>direct</td>\n",
              "      <td>linked</td>\n",
              "      <td>Web</td>\n",
              "      <td>Windows Desktop</td>\n",
              "      <td>IE</td>\n",
              "    </tr>\n",
              "    <tr>\n",
              "      <th>4</th>\n",
              "      <td>czqhjk3yfe</td>\n",
              "      <td>2014-07-01</td>\n",
              "      <td>20140701000305</td>\n",
              "      <td>NaN</td>\n",
              "      <td>-unknown-</td>\n",
              "      <td>NaN</td>\n",
              "      <td>basic</td>\n",
              "      <td>0</td>\n",
              "      <td>en</td>\n",
              "      <td>direct</td>\n",
              "      <td>direct</td>\n",
              "      <td>untracked</td>\n",
              "      <td>Web</td>\n",
              "      <td>Mac Desktop</td>\n",
              "      <td>Safari</td>\n",
              "    </tr>\n",
              "  </tbody>\n",
              "</table>\n",
              "</div>"
            ],
            "text/plain": [
              "           id date_account_created  timestamp_first_active  \\\n",
              "0  5uwns89zht           2014-07-01          20140701000006   \n",
              "1  jtl0dijy2j           2014-07-01          20140701000051   \n",
              "2  xx0ulgorjt           2014-07-01          20140701000148   \n",
              "3  6c6puo6ix0           2014-07-01          20140701000215   \n",
              "4  czqhjk3yfe           2014-07-01          20140701000305   \n",
              "\n",
              "   date_first_booking     gender   age signup_method  signup_flow language  \\\n",
              "0                 NaN     FEMALE  35.0      facebook            0       en   \n",
              "1                 NaN  -unknown-   NaN         basic            0       en   \n",
              "2                 NaN  -unknown-   NaN         basic            0       en   \n",
              "3                 NaN  -unknown-   NaN         basic            0       en   \n",
              "4                 NaN  -unknown-   NaN         basic            0       en   \n",
              "\n",
              "  affiliate_channel affiliate_provider first_affiliate_tracked signup_app  \\\n",
              "0            direct             direct               untracked      Moweb   \n",
              "1            direct             direct               untracked      Moweb   \n",
              "2            direct             direct                  linked        Web   \n",
              "3            direct             direct                  linked        Web   \n",
              "4            direct             direct               untracked        Web   \n",
              "\n",
              "  first_device_type  first_browser  \n",
              "0            iPhone  Mobile Safari  \n",
              "1            iPhone  Mobile Safari  \n",
              "2   Windows Desktop         Chrome  \n",
              "3   Windows Desktop             IE  \n",
              "4       Mac Desktop         Safari  "
            ]
          },
          "execution_count": 35,
          "metadata": {},
          "output_type": "execute_result"
        }
      ],
      "source": [
        "test_users.head()"
      ]
    },
    {
      "cell_type": "code",
      "execution_count": null,
      "metadata": {
        "colab": {
          "base_uri": "https://localhost:8080/"
        },
        "id": "qTkVmwjrR6hR",
        "outputId": "a623a9e1-1a07-401f-cbcd-5c9553690f60"
      },
      "outputs": [
        {
          "name": "stdout",
          "output_type": "stream",
          "text": [
            " date_first_booking contains 58.34734904029496 null values\n",
            " age contains 41.222575673105304 null values\n",
            " first_affiliate_tracked contains 2.84140153946339 null values\n"
          ]
        }
      ],
      "source": [
        "for ele in train_users.columns:\n",
        "    if (sum(train_users[ele].isnull()) / len(train_users)) == 0:\n",
        "        continue\n",
        "    print(\" {} contains {} null values\".format(ele,  (sum(train_users[ele].isnull()) / len(train_users)) * 100)) "
      ]
    },
    {
      "cell_type": "markdown",
      "metadata": {
        "id": "3jC-6H6dR6hR"
      },
      "source": [
        "## Data Processing"
      ]
    },
    {
      "cell_type": "markdown",
      "metadata": {
        "id": "iSgmOIc2R6hR"
      },
      "source": [
        "### Users"
      ]
    },
    {
      "cell_type": "markdown",
      "metadata": {
        "id": "qg5zRQtSevHT"
      },
      "source": [
        "For Age column, we set missing age and all age not in range from 15 to 100 is median age"
      ]
    },
    {
      "cell_type": "code",
      "execution_count": null,
      "metadata": {
        "id": "RK-sOksiR6hR"
      },
      "outputs": [],
      "source": [
        "MEDIAN_AGE = train_users['age'].median()  # taking median because data is skewed\n",
        "# age\n",
        "train_users['age'].fillna(MEDIAN_AGE,inplace=True) # Handle Null values and Outliers for Age\n",
        "train_users.loc[train_users['age'] > 100,'age'] = MEDIAN_AGE\n",
        "train_users.loc[train_users['age'] < 15,'age']= MEDIAN_AGE\n",
        "train_users['age']=train_users['age'].astype('int32')  # Handle mismatched Dtypes"
      ]
    },
    {
      "cell_type": "markdown",
      "metadata": {
        "id": "OFoYuF5ue1ew"
      },
      "source": [
        "Next, we parse date columns and extract date features from them"
      ]
    },
    {
      "cell_type": "code",
      "execution_count": null,
      "metadata": {
        "id": "q6mw3z4fe8Gb"
      },
      "outputs": [],
      "source": [
        "train_users['timestamp_first_active']=train_users['timestamp_first_active'].apply(lambda s:datetime(year=int(str(s)[0:4]), month=int(str(s)[4:6]), \n",
        "                                                                                day=int(str(s)[6:8])).strftime('%Y-%m-%d'))\n",
        "                                                                                \n",
        "train_users['timestamp_first_active']=train_users['timestamp_first_active'].astype('datetime64[ns]') #handle mismatched dtype\n",
        "\n",
        "# Extract Date features from the date columns\n",
        "train_users['TFA_year']=train_users['timestamp_first_active'].dt.year\n",
        "train_users['TFA_month']=train_users['timestamp_first_active'].dt.month\n",
        "train_users['TFA_day']=train_users['timestamp_first_active'].dt.day\n",
        "\n",
        "\n",
        "train_users['date_account_created'] = train_users['date_account_created'].astype('datetime64[ns]') #handle mismatched dtype\n",
        "train_users['DAC_year']=train_users['date_account_created'].dt.year\n",
        "train_users['DAC_month']=train_users['date_account_created'].dt.month\n",
        "train_users['DAC_day']=train_users['date_account_created'].dt.day\n"
      ]
    },
    {
      "cell_type": "markdown",
      "metadata": {
        "id": "5cKRbJ-UnXbH"
      },
      "source": [
        "Same process with testing dataset"
      ]
    },
    {
      "cell_type": "code",
      "execution_count": null,
      "metadata": {
        "id": "PrvmMKJBR6hS"
      },
      "outputs": [],
      "source": [
        "# age\n",
        "test_users['age'].fillna(MEDIAN_AGE,inplace=True) # Handle Null values and Outliers for Age\n",
        "test_users.loc[test_users['age'] > 100,'age'] = MEDIAN_AGE\n",
        "test_users.loc[test_users['age'] < 15,'age']= MEDIAN_AGE\n",
        "test_users['age']=test_users['age'].astype('int32')  # Handle mismatched Dtypes\n",
        "\n",
        "\n",
        "# Parse the timestamp_first_active attribute\n",
        "test_users['timestamp_first_active'] = test_users['timestamp_first_active'].apply(lambda s:datetime(year=int(str(s)[0:4]),\n",
        "                                                                  month=int(str(s)[4:6]),day=int(str(s)[6:8])).strftime('%Y-%m-%d'))\n",
        "                                                                                \n",
        "test_users['timestamp_first_active']=test_users['timestamp_first_active'].astype('datetime64[ns]')  #handle mismatched dtype\n",
        "\n",
        "# Extract Date features from the date columns\n",
        "test_users['TFA_year']=test_users['timestamp_first_active'].dt.year\n",
        "test_users['TFA_month']=test_users['timestamp_first_active'].dt.month\n",
        "test_users['TFA_day']=test_users['timestamp_first_active'].dt.day\n",
        "\n",
        "test_users['date_account_created'] = test_users['date_account_created'].astype('datetime64[ns]')\n",
        "test_users['DAC_year']=test_users['date_account_created'].dt.year\n",
        "test_users['DAC_month']=test_users['date_account_created'].dt.month\n",
        "test_users['DAC_day']=test_users['date_account_created'].dt.day\n"
      ]
    },
    {
      "cell_type": "code",
      "execution_count": null,
      "metadata": {
        "id": "GbVrE0OER6hT"
      },
      "outputs": [],
      "source": [
        "# drop unnecessary columns\n",
        "train_users.drop(['date_account_created', 'timestamp_first_active', 'date_first_booking'],axis=1, inplace= True)\n",
        "test_users.drop(['date_account_created', 'timestamp_first_active', 'date_first_booking'],axis=1, inplace= True)"
      ]
    },
    {
      "cell_type": "code",
      "execution_count": null,
      "metadata": {
        "id": "z7kX4lemR6hT"
      },
      "outputs": [],
      "source": [
        "# fill missing values of 'first_affiliate_tracked' attribute with the mode of the column\n",
        "train_users['first_affiliate_tracked'].fillna(value=train_users.first_affiliate_tracked.mode()[0],inplace = True)\n",
        "\n",
        "test_users['first_affiliate_tracked'].fillna(value=train_users.first_affiliate_tracked.mode()[0],inplace = True)"
      ]
    },
    {
      "cell_type": "markdown",
      "metadata": {
        "id": "9EnL1ow6R6hT"
      },
      "source": [
        "### Sessions"
      ]
    },
    {
      "cell_type": "markdown",
      "metadata": {
        "id": "jLVAwTE8mUZY"
      },
      "source": [
        "For action type, we set missing value as 'other'<br>\n",
        "For secs_elapsed, we set missing value as 0"
      ]
    },
    {
      "cell_type": "code",
      "execution_count": null,
      "metadata": {
        "colab": {
          "base_uri": "https://localhost:8080/",
          "height": 224
        },
        "id": "83tgZfAeR6hT",
        "outputId": "5400ef5c-2f70-408b-deb1-e6611c5c9de6"
      },
      "outputs": [
        {
          "name": "stdout",
          "output_type": "stream",
          "text": [
            "DF Length 10567737\n"
          ]
        },
        {
          "data": {
            "text/html": [
              "<div>\n",
              "<style scoped>\n",
              "    .dataframe tbody tr th:only-of-type {\n",
              "        vertical-align: middle;\n",
              "    }\n",
              "\n",
              "    .dataframe tbody tr th {\n",
              "        vertical-align: top;\n",
              "    }\n",
              "\n",
              "    .dataframe thead th {\n",
              "        text-align: right;\n",
              "    }\n",
              "</style>\n",
              "<table border=\"1\" class=\"dataframe\">\n",
              "  <thead>\n",
              "    <tr style=\"text-align: right;\">\n",
              "      <th></th>\n",
              "      <th>user_id</th>\n",
              "      <th>action</th>\n",
              "      <th>action_type</th>\n",
              "      <th>action_detail</th>\n",
              "      <th>device_type</th>\n",
              "      <th>secs_elapsed</th>\n",
              "    </tr>\n",
              "  </thead>\n",
              "  <tbody>\n",
              "    <tr>\n",
              "      <th>0</th>\n",
              "      <td>d1mm9tcy42</td>\n",
              "      <td>lookup</td>\n",
              "      <td>Other</td>\n",
              "      <td>NaN</td>\n",
              "      <td>Windows Desktop</td>\n",
              "      <td>319.0</td>\n",
              "    </tr>\n",
              "    <tr>\n",
              "      <th>1</th>\n",
              "      <td>d1mm9tcy42</td>\n",
              "      <td>search_results</td>\n",
              "      <td>click</td>\n",
              "      <td>view_search_results</td>\n",
              "      <td>Windows Desktop</td>\n",
              "      <td>67753.0</td>\n",
              "    </tr>\n",
              "    <tr>\n",
              "      <th>2</th>\n",
              "      <td>d1mm9tcy42</td>\n",
              "      <td>lookup</td>\n",
              "      <td>Other</td>\n",
              "      <td>NaN</td>\n",
              "      <td>Windows Desktop</td>\n",
              "      <td>301.0</td>\n",
              "    </tr>\n",
              "    <tr>\n",
              "      <th>3</th>\n",
              "      <td>d1mm9tcy42</td>\n",
              "      <td>search_results</td>\n",
              "      <td>click</td>\n",
              "      <td>view_search_results</td>\n",
              "      <td>Windows Desktop</td>\n",
              "      <td>22141.0</td>\n",
              "    </tr>\n",
              "    <tr>\n",
              "      <th>4</th>\n",
              "      <td>d1mm9tcy42</td>\n",
              "      <td>lookup</td>\n",
              "      <td>Other</td>\n",
              "      <td>NaN</td>\n",
              "      <td>Windows Desktop</td>\n",
              "      <td>435.0</td>\n",
              "    </tr>\n",
              "  </tbody>\n",
              "</table>\n",
              "</div>"
            ],
            "text/plain": [
              "      user_id          action action_type        action_detail  \\\n",
              "0  d1mm9tcy42          lookup       Other                  NaN   \n",
              "1  d1mm9tcy42  search_results       click  view_search_results   \n",
              "2  d1mm9tcy42          lookup       Other                  NaN   \n",
              "3  d1mm9tcy42  search_results       click  view_search_results   \n",
              "4  d1mm9tcy42          lookup       Other                  NaN   \n",
              "\n",
              "       device_type  secs_elapsed  \n",
              "0  Windows Desktop         319.0  \n",
              "1  Windows Desktop       67753.0  \n",
              "2  Windows Desktop         301.0  \n",
              "3  Windows Desktop       22141.0  \n",
              "4  Windows Desktop         435.0  "
            ]
          },
          "execution_count": 42,
          "metadata": {},
          "output_type": "execute_result"
        }
      ],
      "source": [
        "print(\"DF Length\",len(sessions))\n",
        "sessions.dropna(subset=['user_id','action'],inplace=True)\n",
        "sessions.action_type=sessions.action_type.fillna('Other')\n",
        "sessions.secs_elapsed=sessions.secs_elapsed.fillna(0)\n",
        "sessions.head()"
      ]
    },
    {
      "cell_type": "code",
      "execution_count": null,
      "metadata": {
        "colab": {
          "base_uri": "https://localhost:8080/",
          "height": 206
        },
        "id": "271McjLzR6hT",
        "outputId": "bb888d69-eb48-4be1-8717-11a4da08e3c0"
      },
      "outputs": [
        {
          "data": {
            "text/html": [
              "<div>\n",
              "<style scoped>\n",
              "    .dataframe tbody tr th:only-of-type {\n",
              "        vertical-align: middle;\n",
              "    }\n",
              "\n",
              "    .dataframe tbody tr th {\n",
              "        vertical-align: top;\n",
              "    }\n",
              "\n",
              "    .dataframe thead th {\n",
              "        text-align: right;\n",
              "    }\n",
              "</style>\n",
              "<table border=\"1\" class=\"dataframe\">\n",
              "  <thead>\n",
              "    <tr style=\"text-align: right;\">\n",
              "      <th></th>\n",
              "      <th>user_id</th>\n",
              "      <th>action</th>\n",
              "      <th>action_type</th>\n",
              "      <th>action_detail</th>\n",
              "      <th>device_type</th>\n",
              "      <th>secs_elapsed</th>\n",
              "    </tr>\n",
              "  </thead>\n",
              "  <tbody>\n",
              "    <tr>\n",
              "      <th>0</th>\n",
              "      <td>d1mm9tcy42</td>\n",
              "      <td>lookup</td>\n",
              "      <td>Other</td>\n",
              "      <td>NaN</td>\n",
              "      <td>Windows Desktop</td>\n",
              "      <td>319.0</td>\n",
              "    </tr>\n",
              "    <tr>\n",
              "      <th>1</th>\n",
              "      <td>d1mm9tcy42</td>\n",
              "      <td>search_results</td>\n",
              "      <td>click</td>\n",
              "      <td>view_search_results</td>\n",
              "      <td>Windows Desktop</td>\n",
              "      <td>67753.0</td>\n",
              "    </tr>\n",
              "    <tr>\n",
              "      <th>2</th>\n",
              "      <td>d1mm9tcy42</td>\n",
              "      <td>lookup</td>\n",
              "      <td>Other</td>\n",
              "      <td>NaN</td>\n",
              "      <td>Windows Desktop</td>\n",
              "      <td>301.0</td>\n",
              "    </tr>\n",
              "    <tr>\n",
              "      <th>3</th>\n",
              "      <td>d1mm9tcy42</td>\n",
              "      <td>search_results</td>\n",
              "      <td>click</td>\n",
              "      <td>view_search_results</td>\n",
              "      <td>Windows Desktop</td>\n",
              "      <td>22141.0</td>\n",
              "    </tr>\n",
              "    <tr>\n",
              "      <th>4</th>\n",
              "      <td>d1mm9tcy42</td>\n",
              "      <td>lookup</td>\n",
              "      <td>Other</td>\n",
              "      <td>NaN</td>\n",
              "      <td>Windows Desktop</td>\n",
              "      <td>435.0</td>\n",
              "    </tr>\n",
              "  </tbody>\n",
              "</table>\n",
              "</div>"
            ],
            "text/plain": [
              "      user_id          action action_type        action_detail  \\\n",
              "0  d1mm9tcy42          lookup       Other                  NaN   \n",
              "1  d1mm9tcy42  search_results       click  view_search_results   \n",
              "2  d1mm9tcy42          lookup       Other                  NaN   \n",
              "3  d1mm9tcy42  search_results       click  view_search_results   \n",
              "4  d1mm9tcy42          lookup       Other                  NaN   \n",
              "\n",
              "       device_type  secs_elapsed  \n",
              "0  Windows Desktop         319.0  \n",
              "1  Windows Desktop       67753.0  \n",
              "2  Windows Desktop         301.0  \n",
              "3  Windows Desktop       22141.0  \n",
              "4  Windows Desktop         435.0  "
            ]
          },
          "execution_count": 43,
          "metadata": {},
          "output_type": "execute_result"
        }
      ],
      "source": [
        "sessions_copy = sessions.__deepcopy__()\n",
        "sessions_copy.head()"
      ]
    },
    {
      "cell_type": "code",
      "execution_count": null,
      "metadata": {
        "id": "ABawKlm-R6hU"
      },
      "outputs": [],
      "source": [
        "# aggregate the action, action type, detail values for each user_id\n",
        "\n",
        "sessions_copy =  sessions.groupby(\"user_id\", as_index= False).agg(lambda x:x.tolist())\n",
        "\n",
        "sessions_copy['action_detail'].fillna(value = 'na',inplace = True)\n",
        "\n",
        "def convert_to_string(action):\n",
        "    action = [str(i) for i in action]\n",
        "    action = [re.sub(\"nan\",\"\",i) for i in action]\n",
        "    action = \",\".join(action)\n",
        "    return action\n",
        "\n",
        "sessions_copy[\"action\"] = sessions_copy[\"action\"].apply(convert_to_string)\n",
        "sessions_copy[\"action_type\"] = sessions_copy[\"action_type\"].apply(convert_to_string)\n",
        "sessions_copy[\"action_detail\"] = sessions_copy[\"action_detail\"].apply(convert_to_string)\n"
      ]
    },
    {
      "cell_type": "markdown",
      "metadata": {
        "id": "Bqx2I35xpeVQ"
      },
      "source": [
        "### Feature Engineering\n",
        "\n",
        "Here we take group different actions based on how they influence the booking intent of a user. (Ex. NDF vs non-NDF)"
      ]
    },
    {
      "cell_type": "code",
      "execution_count": null,
      "metadata": {
        "id": "chQfU1sjR6hU"
      },
      "outputs": [],
      "source": [
        "sessions_copy['apply_coupon'] = sessions_copy[\"action_detail\"].apply(lambda x: 1 if x.find('apply_coupon') != -1 else 0)\n",
        "sessions_copy['cancellation_actions'] = sessions_copy[\"action_detail\"].apply(lambda x: 1 if x.find('cancellation_polic') != -1 else 0)\n",
        "sessions_copy['phone_actions'] = sessions_copy[\"action_detail\"].apply(lambda x: 1 if x.find('phone') != -1 else 0)\n",
        "sessions_copy['message_actions'] = sessions_copy[\"action_detail\"].apply(lambda x: 1 if x.find('message') != -1 else 0)\n",
        "sessions_copy['profile_actions'] = sessions_copy[\"action_detail\"].apply(lambda x:1 if x != 'user_profile' and x.find('profile') != -1 else 0 )\n",
        "sessions_copy['listing_actions'] = sessions_copy[\"action_detail\"].apply(lambda x: 1 if x.find('list_your_space') or x.find('listing') != -1 else 0)\n",
        "sessions_copy['notification_actions'] = sessions_copy[\"action_detail\"].apply(lambda x: 1 if x.find('notifications') != -1 else 0)\n",
        "sessions_copy['social_connections'] = sessions_copy[\"action_detail\"].apply(lambda x: 1 if x.find('user_social_connections') != -1 else 0)\n",
        "sessions_copy['at_checkpoint'] = sessions_copy[\"action_detail\"].apply(lambda x: 1 if x.find('at_checkpoint') != -1 else 0)\n",
        "sessions_copy['change_actions'] = sessions_copy[\"action_detail\"].apply(lambda x: 1 if x.find('change') != -1 else 0)\n",
        "sessions_copy['confirm_email'] = sessions_copy[\"action_detail\"].apply(lambda x: 1 if x.find('confirm_email') != -1 else 0)\n",
        "sessions_copy['contact_host'] = sessions_copy[\"action_detail\"].apply(lambda x: 1 if x.find('contact_host') != -1 else 0)\n",
        "sessions_copy['dashboard'] = sessions_copy[\"action_detail\"].apply(lambda x: 1 if x.find('dashboard') != -1 else 0)\n",
        "sessions_copy['your_trips'] = sessions_copy[\"action_detail\"].apply(lambda x: 1 if x.find('your_trips') != -1 else 0)\n",
        "sessions_copy['reservations'] = sessions_copy[\"action_detail\"].apply(lambda x: 1 if x.find('reservation') != -1 else 0)\n",
        "sessions_copy['oauth_login'] = sessions_copy[\"action_detail\"].apply(lambda x: 1 if x.find('oauth_login') != -1 else 0)\n",
        "sessions_copy['oauth_response'] = sessions_copy[\"action_detail\"].apply(lambda x: 1 if x.find('oauth_response') != -1 else 0)\n",
        "sessions_copy['listing_reviews'] = sessions_copy[\"action_detail\"].apply(lambda x: 1 if x.find('listing_reviews') != -1 else 0)\n",
        "for ele in ['p1','p3','p4','p5']:\n",
        "    sessions_copy[f'{ele}_indicator'] = sessions_copy[\"action_detail\"].apply(lambda x: 1 if x.find(ele) != -1 else 0)\n"
      ]
    },
    {
      "cell_type": "code",
      "execution_count": null,
      "metadata": {
        "colab": {
          "base_uri": "https://localhost:8080/"
        },
        "id": "eVka5mvnR6hU",
        "outputId": "d50317f2-4d34-43d9-cde6-0e27ea4c01d9"
      },
      "outputs": [
        {
          "data": {
            "text/plain": [
              "Index(['user_id', 'apply_coupon', 'cancellation_actions', 'phone_actions',\n",
              "       'message_actions', 'profile_actions', 'listing_actions',\n",
              "       'notification_actions', 'social_connections', 'at_checkpoint',\n",
              "       'change_actions', 'confirm_email', 'contact_host', 'dashboard',\n",
              "       'your_trips', 'reservations', 'oauth_login', 'oauth_response',\n",
              "       'listing_reviews', 'p1_indicator', 'p3_indicator', 'p4_indicator',\n",
              "       'p5_indicator'],\n",
              "      dtype='object')"
            ]
          },
          "execution_count": 46,
          "metadata": {},
          "output_type": "execute_result"
        }
      ],
      "source": [
        "sessions_copy = sessions_copy.drop([ 'action', 'action_type', 'action_detail', 'device_type',\n",
        "       'secs_elapsed'],axis = 1)\n",
        "sessions_copy.columns"
      ]
    },
    {
      "cell_type": "code",
      "execution_count": null,
      "metadata": {
        "colab": {
          "base_uri": "https://localhost:8080/",
          "height": 300
        },
        "id": "lHfHKeheR6hU",
        "outputId": "7020e5b4-6efb-4737-b852-44c66c046444"
      },
      "outputs": [
        {
          "data": {
            "text/html": [
              "<div>\n",
              "<style scoped>\n",
              "    .dataframe tbody tr th:only-of-type {\n",
              "        vertical-align: middle;\n",
              "    }\n",
              "\n",
              "    .dataframe tbody tr th {\n",
              "        vertical-align: top;\n",
              "    }\n",
              "\n",
              "    .dataframe thead th {\n",
              "        text-align: right;\n",
              "    }\n",
              "</style>\n",
              "<table border=\"1\" class=\"dataframe\">\n",
              "  <thead>\n",
              "    <tr style=\"text-align: right;\">\n",
              "      <th></th>\n",
              "      <th>user_id</th>\n",
              "      <th>apply_coupon</th>\n",
              "      <th>cancellation_actions</th>\n",
              "      <th>phone_actions</th>\n",
              "      <th>message_actions</th>\n",
              "      <th>profile_actions</th>\n",
              "      <th>listing_actions</th>\n",
              "      <th>notification_actions</th>\n",
              "      <th>social_connections</th>\n",
              "      <th>at_checkpoint</th>\n",
              "      <th>...</th>\n",
              "      <th>dashboard</th>\n",
              "      <th>your_trips</th>\n",
              "      <th>reservations</th>\n",
              "      <th>oauth_login</th>\n",
              "      <th>oauth_response</th>\n",
              "      <th>listing_reviews</th>\n",
              "      <th>p1_indicator</th>\n",
              "      <th>p3_indicator</th>\n",
              "      <th>p4_indicator</th>\n",
              "      <th>p5_indicator</th>\n",
              "    </tr>\n",
              "  </thead>\n",
              "  <tbody>\n",
              "    <tr>\n",
              "      <th>0</th>\n",
              "      <td>00023iyk9l</td>\n",
              "      <td>0</td>\n",
              "      <td>0</td>\n",
              "      <td>0</td>\n",
              "      <td>0</td>\n",
              "      <td>0</td>\n",
              "      <td>1</td>\n",
              "      <td>0</td>\n",
              "      <td>0</td>\n",
              "      <td>0</td>\n",
              "      <td>...</td>\n",
              "      <td>1</td>\n",
              "      <td>1</td>\n",
              "      <td>0</td>\n",
              "      <td>0</td>\n",
              "      <td>1</td>\n",
              "      <td>0</td>\n",
              "      <td>0</td>\n",
              "      <td>1</td>\n",
              "      <td>0</td>\n",
              "      <td>1</td>\n",
              "    </tr>\n",
              "    <tr>\n",
              "      <th>1</th>\n",
              "      <td>0010k6l0om</td>\n",
              "      <td>0</td>\n",
              "      <td>0</td>\n",
              "      <td>0</td>\n",
              "      <td>0</td>\n",
              "      <td>0</td>\n",
              "      <td>1</td>\n",
              "      <td>0</td>\n",
              "      <td>0</td>\n",
              "      <td>0</td>\n",
              "      <td>...</td>\n",
              "      <td>1</td>\n",
              "      <td>0</td>\n",
              "      <td>0</td>\n",
              "      <td>0</td>\n",
              "      <td>1</td>\n",
              "      <td>0</td>\n",
              "      <td>0</td>\n",
              "      <td>1</td>\n",
              "      <td>0</td>\n",
              "      <td>0</td>\n",
              "    </tr>\n",
              "    <tr>\n",
              "      <th>2</th>\n",
              "      <td>001wyh0pz8</td>\n",
              "      <td>0</td>\n",
              "      <td>0</td>\n",
              "      <td>0</td>\n",
              "      <td>0</td>\n",
              "      <td>1</td>\n",
              "      <td>1</td>\n",
              "      <td>1</td>\n",
              "      <td>1</td>\n",
              "      <td>0</td>\n",
              "      <td>...</td>\n",
              "      <td>0</td>\n",
              "      <td>0</td>\n",
              "      <td>0</td>\n",
              "      <td>0</td>\n",
              "      <td>0</td>\n",
              "      <td>0</td>\n",
              "      <td>0</td>\n",
              "      <td>1</td>\n",
              "      <td>0</td>\n",
              "      <td>0</td>\n",
              "    </tr>\n",
              "    <tr>\n",
              "      <th>3</th>\n",
              "      <td>0028jgx1x1</td>\n",
              "      <td>0</td>\n",
              "      <td>0</td>\n",
              "      <td>0</td>\n",
              "      <td>0</td>\n",
              "      <td>1</td>\n",
              "      <td>1</td>\n",
              "      <td>0</td>\n",
              "      <td>0</td>\n",
              "      <td>0</td>\n",
              "      <td>...</td>\n",
              "      <td>0</td>\n",
              "      <td>0</td>\n",
              "      <td>0</td>\n",
              "      <td>0</td>\n",
              "      <td>0</td>\n",
              "      <td>1</td>\n",
              "      <td>0</td>\n",
              "      <td>1</td>\n",
              "      <td>0</td>\n",
              "      <td>0</td>\n",
              "    </tr>\n",
              "    <tr>\n",
              "      <th>4</th>\n",
              "      <td>002qnbzfs5</td>\n",
              "      <td>0</td>\n",
              "      <td>0</td>\n",
              "      <td>1</td>\n",
              "      <td>1</td>\n",
              "      <td>1</td>\n",
              "      <td>1</td>\n",
              "      <td>1</td>\n",
              "      <td>1</td>\n",
              "      <td>1</td>\n",
              "      <td>...</td>\n",
              "      <td>1</td>\n",
              "      <td>0</td>\n",
              "      <td>1</td>\n",
              "      <td>0</td>\n",
              "      <td>0</td>\n",
              "      <td>1</td>\n",
              "      <td>0</td>\n",
              "      <td>1</td>\n",
              "      <td>0</td>\n",
              "      <td>0</td>\n",
              "    </tr>\n",
              "  </tbody>\n",
              "</table>\n",
              "<p>5 rows × 23 columns</p>\n",
              "</div>"
            ],
            "text/plain": [
              "      user_id  apply_coupon  cancellation_actions  phone_actions  \\\n",
              "0  00023iyk9l             0                     0              0   \n",
              "1  0010k6l0om             0                     0              0   \n",
              "2  001wyh0pz8             0                     0              0   \n",
              "3  0028jgx1x1             0                     0              0   \n",
              "4  002qnbzfs5             0                     0              1   \n",
              "\n",
              "   message_actions  profile_actions  listing_actions  notification_actions  \\\n",
              "0                0                0                1                     0   \n",
              "1                0                0                1                     0   \n",
              "2                0                1                1                     1   \n",
              "3                0                1                1                     0   \n",
              "4                1                1                1                     1   \n",
              "\n",
              "   social_connections  at_checkpoint  ...  dashboard  your_trips  \\\n",
              "0                   0              0  ...          1           1   \n",
              "1                   0              0  ...          1           0   \n",
              "2                   1              0  ...          0           0   \n",
              "3                   0              0  ...          0           0   \n",
              "4                   1              1  ...          1           0   \n",
              "\n",
              "   reservations  oauth_login  oauth_response  listing_reviews  p1_indicator  \\\n",
              "0             0            0               1                0             0   \n",
              "1             0            0               1                0             0   \n",
              "2             0            0               0                0             0   \n",
              "3             0            0               0                1             0   \n",
              "4             1            0               0                1             0   \n",
              "\n",
              "   p3_indicator  p4_indicator  p5_indicator  \n",
              "0             1             0             1  \n",
              "1             1             0             0  \n",
              "2             1             0             0  \n",
              "3             1             0             0  \n",
              "4             1             0             0  \n",
              "\n",
              "[5 rows x 23 columns]"
            ]
          },
          "execution_count": 47,
          "metadata": {},
          "output_type": "execute_result"
        }
      ],
      "source": [
        "sessions_copy.head()"
      ]
    },
    {
      "cell_type": "markdown",
      "metadata": {
        "id": "20_AeTS0pkPn"
      },
      "source": [
        "Here, we categorize actions based on the elapsed session time to include a information on the kind of activity that was performed on the session. "
      ]
    },
    {
      "cell_type": "code",
      "execution_count": null,
      "metadata": {
        "colab": {
          "base_uri": "https://localhost:8080/",
          "height": 206
        },
        "id": "Niz9pKYQR6hV",
        "outputId": "35445406-cb79-42fa-ed8a-4de8d30f3d52"
      },
      "outputs": [
        {
          "data": {
            "text/html": [
              "<div>\n",
              "<style scoped>\n",
              "    .dataframe tbody tr th:only-of-type {\n",
              "        vertical-align: middle;\n",
              "    }\n",
              "\n",
              "    .dataframe tbody tr th {\n",
              "        vertical-align: top;\n",
              "    }\n",
              "\n",
              "    .dataframe thead th {\n",
              "        text-align: right;\n",
              "    }\n",
              "</style>\n",
              "<table border=\"1\" class=\"dataframe\">\n",
              "  <thead>\n",
              "    <tr style=\"text-align: right;\">\n",
              "      <th></th>\n",
              "      <th>user_id</th>\n",
              "      <th>secs_elapsed</th>\n",
              "      <th>total_quick_actions</th>\n",
              "      <th>total_careful_actions</th>\n",
              "      <th>total_pause_actions</th>\n",
              "      <th>total_afk_actions</th>\n",
              "      <th>total_long_afk_actions</th>\n",
              "    </tr>\n",
              "  </thead>\n",
              "  <tbody>\n",
              "    <tr>\n",
              "      <th>0</th>\n",
              "      <td>00023iyk9l</td>\n",
              "      <td>738079.0</td>\n",
              "      <td>4</td>\n",
              "      <td>10</td>\n",
              "      <td>18</td>\n",
              "      <td>6</td>\n",
              "      <td>1</td>\n",
              "    </tr>\n",
              "    <tr>\n",
              "      <th>1</th>\n",
              "      <td>0010k6l0om</td>\n",
              "      <td>586543.0</td>\n",
              "      <td>13</td>\n",
              "      <td>14</td>\n",
              "      <td>21</td>\n",
              "      <td>13</td>\n",
              "      <td>2</td>\n",
              "    </tr>\n",
              "    <tr>\n",
              "      <th>2</th>\n",
              "      <td>001wyh0pz8</td>\n",
              "      <td>282965.0</td>\n",
              "      <td>2</td>\n",
              "      <td>18</td>\n",
              "      <td>61</td>\n",
              "      <td>9</td>\n",
              "      <td>0</td>\n",
              "    </tr>\n",
              "    <tr>\n",
              "      <th>3</th>\n",
              "      <td>0028jgx1x1</td>\n",
              "      <td>297010.0</td>\n",
              "      <td>5</td>\n",
              "      <td>11</td>\n",
              "      <td>4</td>\n",
              "      <td>11</td>\n",
              "      <td>0</td>\n",
              "    </tr>\n",
              "    <tr>\n",
              "      <th>4</th>\n",
              "      <td>002qnbzfs5</td>\n",
              "      <td>6463327.0</td>\n",
              "      <td>162</td>\n",
              "      <td>245</td>\n",
              "      <td>270</td>\n",
              "      <td>92</td>\n",
              "      <td>13</td>\n",
              "    </tr>\n",
              "  </tbody>\n",
              "</table>\n",
              "</div>"
            ],
            "text/plain": [
              "      user_id  secs_elapsed  total_quick_actions  total_careful_actions  \\\n",
              "0  00023iyk9l      738079.0                    4                     10   \n",
              "1  0010k6l0om      586543.0                   13                     14   \n",
              "2  001wyh0pz8      282965.0                    2                     18   \n",
              "3  0028jgx1x1      297010.0                    5                     11   \n",
              "4  002qnbzfs5     6463327.0                  162                    245   \n",
              "\n",
              "   total_pause_actions  total_afk_actions  total_long_afk_actions  \n",
              "0                   18                  6                       1  \n",
              "1                   21                 13                       2  \n",
              "2                   61                  9                       0  \n",
              "3                    4                 11                       0  \n",
              "4                  270                 92                      13  "
            ]
          },
          "execution_count": 48,
          "metadata": {},
          "output_type": "execute_result"
        }
      ],
      "source": [
        "sessions['is_live_action'] = sessions.secs_elapsed.apply(lambda x : True if x < 60 else False)\n",
        "sessions['is_typeB_action'] = sessions.secs_elapsed.apply(lambda x : True if x >= 60 and x <=600 else False)\n",
        "sessions['is_typeC_action'] = sessions.secs_elapsed.apply(lambda x : True if x > 600 and x <=7200 else False)\n",
        "sessions['is_typeD_action'] = sessions.secs_elapsed.apply(lambda x : True if x > 7200 and x <=86400 else False)\n",
        "sessions['is_typeE_action'] = sessions.secs_elapsed.apply(lambda x : True if x > 86400 else False)\n",
        "total_session_by_type = sessions.groupby(\"user_id\", as_index = False).sum()\n",
        "total_session_by_type.columns = ['user_id', 'secs_elapsed', 'total_quick_actions', 'total_careful_actions',\n",
        "       'total_pause_actions', 'total_afk_actions', 'total_long_afk_actions']\n",
        "total_session_by_type.head()"
      ]
    },
    {
      "cell_type": "code",
      "execution_count": null,
      "metadata": {
        "id": "qgyqBA6gR6hV"
      },
      "outputs": [],
      "source": [
        "merged_session_features = total_session_by_type.merge(sessions_copy, on= 'user_id', how= 'inner')"
      ]
    },
    {
      "cell_type": "code",
      "execution_count": null,
      "metadata": {
        "colab": {
          "base_uri": "https://localhost:8080/",
          "height": 288
        },
        "id": "mv7dpBoDR6hV",
        "outputId": "602f4caf-ef6d-4157-dc02-8fa7d13e8b08"
      },
      "outputs": [
        {
          "data": {
            "text/html": [
              "<div>\n",
              "<style scoped>\n",
              "    .dataframe tbody tr th:only-of-type {\n",
              "        vertical-align: middle;\n",
              "    }\n",
              "\n",
              "    .dataframe tbody tr th {\n",
              "        vertical-align: top;\n",
              "    }\n",
              "\n",
              "    .dataframe thead th {\n",
              "        text-align: right;\n",
              "    }\n",
              "</style>\n",
              "<table border=\"1\" class=\"dataframe\">\n",
              "  <thead>\n",
              "    <tr style=\"text-align: right;\">\n",
              "      <th></th>\n",
              "      <th>user_id</th>\n",
              "      <th>count_actions</th>\n",
              "      <th>num_unique_actions</th>\n",
              "      <th>total_secs_elapsed</th>\n",
              "      <th>max_secs_elapsed</th>\n",
              "      <th>avg_secs_elapsed</th>\n",
              "      <th>num_devices_used</th>\n",
              "      <th>action_type_-unknown-</th>\n",
              "      <th>action_type_Other</th>\n",
              "      <th>action_type_booking_request</th>\n",
              "      <th>action_type_booking_response</th>\n",
              "      <th>action_type_click</th>\n",
              "      <th>action_type_data</th>\n",
              "      <th>action_type_message_post</th>\n",
              "      <th>action_type_modify</th>\n",
              "      <th>action_type_partner_callback</th>\n",
              "      <th>action_type_submit</th>\n",
              "      <th>action_type_view</th>\n",
              "    </tr>\n",
              "  </thead>\n",
              "  <tbody>\n",
              "    <tr>\n",
              "      <th>0</th>\n",
              "      <td>00023iyk9l</td>\n",
              "      <td>39</td>\n",
              "      <td>14</td>\n",
              "      <td>738079.0</td>\n",
              "      <td>613443.0</td>\n",
              "      <td>155417.543651</td>\n",
              "      <td>9</td>\n",
              "      <td>0</td>\n",
              "      <td>1</td>\n",
              "      <td>1</td>\n",
              "      <td>0</td>\n",
              "      <td>1</td>\n",
              "      <td>1</td>\n",
              "      <td>0</td>\n",
              "      <td>0</td>\n",
              "      <td>1</td>\n",
              "      <td>0</td>\n",
              "      <td>1</td>\n",
              "    </tr>\n",
              "    <tr>\n",
              "      <th>1</th>\n",
              "      <td>0010k6l0om</td>\n",
              "      <td>63</td>\n",
              "      <td>13</td>\n",
              "      <td>586543.0</td>\n",
              "      <td>303074.0</td>\n",
              "      <td>59247.083170</td>\n",
              "      <td>6</td>\n",
              "      <td>1</td>\n",
              "      <td>1</td>\n",
              "      <td>0</td>\n",
              "      <td>0</td>\n",
              "      <td>1</td>\n",
              "      <td>1</td>\n",
              "      <td>0</td>\n",
              "      <td>0</td>\n",
              "      <td>1</td>\n",
              "      <td>0</td>\n",
              "      <td>1</td>\n",
              "    </tr>\n",
              "    <tr>\n",
              "      <th>2</th>\n",
              "      <td>001wyh0pz8</td>\n",
              "      <td>90</td>\n",
              "      <td>11</td>\n",
              "      <td>282965.0</td>\n",
              "      <td>109373.0</td>\n",
              "      <td>30414.200000</td>\n",
              "      <td>6</td>\n",
              "      <td>1</td>\n",
              "      <td>1</td>\n",
              "      <td>0</td>\n",
              "      <td>0</td>\n",
              "      <td>1</td>\n",
              "      <td>1</td>\n",
              "      <td>0</td>\n",
              "      <td>0</td>\n",
              "      <td>0</td>\n",
              "      <td>1</td>\n",
              "      <td>1</td>\n",
              "    </tr>\n",
              "    <tr>\n",
              "      <th>3</th>\n",
              "      <td>0028jgx1x1</td>\n",
              "      <td>31</td>\n",
              "      <td>5</td>\n",
              "      <td>297010.0</td>\n",
              "      <td>140663.0</td>\n",
              "      <td>30284.222222</td>\n",
              "      <td>5</td>\n",
              "      <td>1</td>\n",
              "      <td>0</td>\n",
              "      <td>0</td>\n",
              "      <td>0</td>\n",
              "      <td>1</td>\n",
              "      <td>1</td>\n",
              "      <td>0</td>\n",
              "      <td>0</td>\n",
              "      <td>0</td>\n",
              "      <td>1</td>\n",
              "      <td>1</td>\n",
              "    </tr>\n",
              "    <tr>\n",
              "      <th>4</th>\n",
              "      <td>002qnbzfs5</td>\n",
              "      <td>782</td>\n",
              "      <td>32</td>\n",
              "      <td>6463327.0</td>\n",
              "      <td>2286069.0</td>\n",
              "      <td>252693.669272</td>\n",
              "      <td>12</td>\n",
              "      <td>1</td>\n",
              "      <td>1</td>\n",
              "      <td>1</td>\n",
              "      <td>0</td>\n",
              "      <td>1</td>\n",
              "      <td>1</td>\n",
              "      <td>1</td>\n",
              "      <td>0</td>\n",
              "      <td>0</td>\n",
              "      <td>1</td>\n",
              "      <td>1</td>\n",
              "    </tr>\n",
              "  </tbody>\n",
              "</table>\n",
              "</div>"
            ],
            "text/plain": [
              "      user_id  count_actions  num_unique_actions  total_secs_elapsed  \\\n",
              "0  00023iyk9l             39                  14            738079.0   \n",
              "1  0010k6l0om             63                  13            586543.0   \n",
              "2  001wyh0pz8             90                  11            282965.0   \n",
              "3  0028jgx1x1             31                   5            297010.0   \n",
              "4  002qnbzfs5            782                  32           6463327.0   \n",
              "\n",
              "   max_secs_elapsed  avg_secs_elapsed  num_devices_used  \\\n",
              "0          613443.0     155417.543651                 9   \n",
              "1          303074.0      59247.083170                 6   \n",
              "2          109373.0      30414.200000                 6   \n",
              "3          140663.0      30284.222222                 5   \n",
              "4         2286069.0     252693.669272                12   \n",
              "\n",
              "   action_type_-unknown-  action_type_Other  action_type_booking_request  \\\n",
              "0                      0                  1                            1   \n",
              "1                      1                  1                            0   \n",
              "2                      1                  1                            0   \n",
              "3                      1                  0                            0   \n",
              "4                      1                  1                            1   \n",
              "\n",
              "   action_type_booking_response  action_type_click  action_type_data  \\\n",
              "0                             0                  1                 1   \n",
              "1                             0                  1                 1   \n",
              "2                             0                  1                 1   \n",
              "3                             0                  1                 1   \n",
              "4                             0                  1                 1   \n",
              "\n",
              "   action_type_message_post  action_type_modify  action_type_partner_callback  \\\n",
              "0                         0                   0                             1   \n",
              "1                         0                   0                             1   \n",
              "2                         0                   0                             0   \n",
              "3                         0                   0                             0   \n",
              "4                         1                   0                             0   \n",
              "\n",
              "   action_type_submit  action_type_view  \n",
              "0                   0                 1  \n",
              "1                   0                 1  \n",
              "2                   1                 1  \n",
              "3                   1                 1  \n",
              "4                   1                 1  "
            ]
          },
          "execution_count": 50,
          "metadata": {},
          "output_type": "execute_result"
        }
      ],
      "source": [
        "# create general set of features such as:\n",
        "# total number of actions\n",
        "# number of unique actions\n",
        "# statistics of the session time \n",
        "# number of devices that were used \n",
        "\n",
        "sessions_temp_1 = sessions.groupby(['user_id','action_type']).agg({'action':['count', 'nunique'],\n",
        "                                                                   'secs_elapsed':['sum','max','mean'],\n",
        "                                                                   'device_type' : ['nunique']}).reset_index()\n",
        "\n",
        "# Rename the columns to reflect the meaning of the predictor variable \n",
        "sessions_temp_1.columns = ['user_id','action_type','count_actions','num_unique_actions',\n",
        "                            'total_secs_elapsed','max_secs_elapsed','avg_secs_elapsed','num_devices_used']\n",
        "\n",
        "# One hot encode action_type column\n",
        "sessions_final = pd.get_dummies(sessions_temp_1,columns=['action_type']).groupby(['user_id']).sum().reset_index()\n",
        "sessions_final.head()"
      ]
    },
    {
      "cell_type": "code",
      "execution_count": null,
      "metadata": {
        "colab": {
          "base_uri": "https://localhost:8080/",
          "height": 317
        },
        "id": "AjSyLw6uR6hV",
        "outputId": "694ff3d9-4006-4301-ab6e-84e1ee47f379"
      },
      "outputs": [
        {
          "data": {
            "text/html": [
              "<div>\n",
              "<style scoped>\n",
              "    .dataframe tbody tr th:only-of-type {\n",
              "        vertical-align: middle;\n",
              "    }\n",
              "\n",
              "    .dataframe tbody tr th {\n",
              "        vertical-align: top;\n",
              "    }\n",
              "\n",
              "    .dataframe thead th {\n",
              "        text-align: right;\n",
              "    }\n",
              "</style>\n",
              "<table border=\"1\" class=\"dataframe\">\n",
              "  <thead>\n",
              "    <tr style=\"text-align: right;\">\n",
              "      <th></th>\n",
              "      <th>user_id</th>\n",
              "      <th>count_actions</th>\n",
              "      <th>num_unique_actions</th>\n",
              "      <th>total_secs_elapsed</th>\n",
              "      <th>max_secs_elapsed</th>\n",
              "      <th>avg_secs_elapsed</th>\n",
              "      <th>num_devices_used</th>\n",
              "      <th>action_type_-unknown-</th>\n",
              "      <th>action_type_Other</th>\n",
              "      <th>action_type_booking_request</th>\n",
              "      <th>...</th>\n",
              "      <th>dashboard</th>\n",
              "      <th>your_trips</th>\n",
              "      <th>reservations</th>\n",
              "      <th>oauth_login</th>\n",
              "      <th>oauth_response</th>\n",
              "      <th>listing_reviews</th>\n",
              "      <th>p1_indicator</th>\n",
              "      <th>p3_indicator</th>\n",
              "      <th>p4_indicator</th>\n",
              "      <th>p5_indicator</th>\n",
              "    </tr>\n",
              "  </thead>\n",
              "  <tbody>\n",
              "    <tr>\n",
              "      <th>0</th>\n",
              "      <td>00023iyk9l</td>\n",
              "      <td>39</td>\n",
              "      <td>14</td>\n",
              "      <td>738079.0</td>\n",
              "      <td>613443.0</td>\n",
              "      <td>155417.543651</td>\n",
              "      <td>9</td>\n",
              "      <td>0</td>\n",
              "      <td>1</td>\n",
              "      <td>1</td>\n",
              "      <td>...</td>\n",
              "      <td>1</td>\n",
              "      <td>1</td>\n",
              "      <td>0</td>\n",
              "      <td>0</td>\n",
              "      <td>1</td>\n",
              "      <td>0</td>\n",
              "      <td>0</td>\n",
              "      <td>1</td>\n",
              "      <td>0</td>\n",
              "      <td>1</td>\n",
              "    </tr>\n",
              "    <tr>\n",
              "      <th>1</th>\n",
              "      <td>0010k6l0om</td>\n",
              "      <td>63</td>\n",
              "      <td>13</td>\n",
              "      <td>586543.0</td>\n",
              "      <td>303074.0</td>\n",
              "      <td>59247.083170</td>\n",
              "      <td>6</td>\n",
              "      <td>1</td>\n",
              "      <td>1</td>\n",
              "      <td>0</td>\n",
              "      <td>...</td>\n",
              "      <td>1</td>\n",
              "      <td>0</td>\n",
              "      <td>0</td>\n",
              "      <td>0</td>\n",
              "      <td>1</td>\n",
              "      <td>0</td>\n",
              "      <td>0</td>\n",
              "      <td>1</td>\n",
              "      <td>0</td>\n",
              "      <td>0</td>\n",
              "    </tr>\n",
              "    <tr>\n",
              "      <th>2</th>\n",
              "      <td>001wyh0pz8</td>\n",
              "      <td>90</td>\n",
              "      <td>11</td>\n",
              "      <td>282965.0</td>\n",
              "      <td>109373.0</td>\n",
              "      <td>30414.200000</td>\n",
              "      <td>6</td>\n",
              "      <td>1</td>\n",
              "      <td>1</td>\n",
              "      <td>0</td>\n",
              "      <td>...</td>\n",
              "      <td>0</td>\n",
              "      <td>0</td>\n",
              "      <td>0</td>\n",
              "      <td>0</td>\n",
              "      <td>0</td>\n",
              "      <td>0</td>\n",
              "      <td>0</td>\n",
              "      <td>1</td>\n",
              "      <td>0</td>\n",
              "      <td>0</td>\n",
              "    </tr>\n",
              "    <tr>\n",
              "      <th>3</th>\n",
              "      <td>0028jgx1x1</td>\n",
              "      <td>31</td>\n",
              "      <td>5</td>\n",
              "      <td>297010.0</td>\n",
              "      <td>140663.0</td>\n",
              "      <td>30284.222222</td>\n",
              "      <td>5</td>\n",
              "      <td>1</td>\n",
              "      <td>0</td>\n",
              "      <td>0</td>\n",
              "      <td>...</td>\n",
              "      <td>0</td>\n",
              "      <td>0</td>\n",
              "      <td>0</td>\n",
              "      <td>0</td>\n",
              "      <td>0</td>\n",
              "      <td>1</td>\n",
              "      <td>0</td>\n",
              "      <td>1</td>\n",
              "      <td>0</td>\n",
              "      <td>0</td>\n",
              "    </tr>\n",
              "    <tr>\n",
              "      <th>4</th>\n",
              "      <td>002qnbzfs5</td>\n",
              "      <td>782</td>\n",
              "      <td>32</td>\n",
              "      <td>6463327.0</td>\n",
              "      <td>2286069.0</td>\n",
              "      <td>252693.669272</td>\n",
              "      <td>12</td>\n",
              "      <td>1</td>\n",
              "      <td>1</td>\n",
              "      <td>1</td>\n",
              "      <td>...</td>\n",
              "      <td>1</td>\n",
              "      <td>0</td>\n",
              "      <td>1</td>\n",
              "      <td>0</td>\n",
              "      <td>0</td>\n",
              "      <td>1</td>\n",
              "      <td>0</td>\n",
              "      <td>1</td>\n",
              "      <td>0</td>\n",
              "      <td>0</td>\n",
              "    </tr>\n",
              "  </tbody>\n",
              "</table>\n",
              "<p>5 rows × 46 columns</p>\n",
              "</div>"
            ],
            "text/plain": [
              "      user_id  count_actions  num_unique_actions  total_secs_elapsed  \\\n",
              "0  00023iyk9l             39                  14            738079.0   \n",
              "1  0010k6l0om             63                  13            586543.0   \n",
              "2  001wyh0pz8             90                  11            282965.0   \n",
              "3  0028jgx1x1             31                   5            297010.0   \n",
              "4  002qnbzfs5            782                  32           6463327.0   \n",
              "\n",
              "   max_secs_elapsed  avg_secs_elapsed  num_devices_used  \\\n",
              "0          613443.0     155417.543651                 9   \n",
              "1          303074.0      59247.083170                 6   \n",
              "2          109373.0      30414.200000                 6   \n",
              "3          140663.0      30284.222222                 5   \n",
              "4         2286069.0     252693.669272                12   \n",
              "\n",
              "   action_type_-unknown-  action_type_Other  action_type_booking_request  ...  \\\n",
              "0                      0                  1                            1  ...   \n",
              "1                      1                  1                            0  ...   \n",
              "2                      1                  1                            0  ...   \n",
              "3                      1                  0                            0  ...   \n",
              "4                      1                  1                            1  ...   \n",
              "\n",
              "   dashboard  your_trips  reservations  oauth_login  oauth_response  \\\n",
              "0          1           1             0            0               1   \n",
              "1          1           0             0            0               1   \n",
              "2          0           0             0            0               0   \n",
              "3          0           0             0            0               0   \n",
              "4          1           0             1            0               0   \n",
              "\n",
              "   listing_reviews  p1_indicator  p3_indicator  p4_indicator  p5_indicator  \n",
              "0                0             0             1             0             1  \n",
              "1                0             0             1             0             0  \n",
              "2                0             0             1             0             0  \n",
              "3                1             0             1             0             0  \n",
              "4                1             0             1             0             0  \n",
              "\n",
              "[5 rows x 46 columns]"
            ]
          },
          "execution_count": 51,
          "metadata": {},
          "output_type": "execute_result"
        }
      ],
      "source": [
        "sessions_final = sessions_final.merge(merged_session_features, on = 'user_id', how = 'inner')\n",
        "sessions_final.head()"
      ]
    },
    {
      "cell_type": "code",
      "execution_count": null,
      "metadata": {
        "colab": {
          "base_uri": "https://localhost:8080/"
        },
        "id": "zykOd9ZER6hW",
        "outputId": "de0a78b8-0127-4dac-b74f-7fe92b9ab999"
      },
      "outputs": [
        {
          "data": {
            "text/plain": [
              "(73406, 64)"
            ]
          },
          "execution_count": 52,
          "metadata": {},
          "output_type": "execute_result"
        }
      ],
      "source": [
        "# Training data shape \n",
        "final_train = train_users.merge(sessions_final,left_on=['id'],\n",
        "                               right_on=['user_id'],how='inner').drop(['user_id'],axis=1).reset_index(drop=True)\n",
        "final_train.shape"
      ]
    },
    {
      "cell_type": "code",
      "execution_count": null,
      "metadata": {
        "colab": {
          "base_uri": "https://localhost:8080/"
        },
        "id": "X50AvYmXR6hW",
        "outputId": "bc280c21-1792-4e22-81a8-020a846fd8df"
      },
      "outputs": [
        {
          "data": {
            "text/plain": [
              "(62096, 63)"
            ]
          },
          "execution_count": 53,
          "metadata": {},
          "output_type": "execute_result"
        }
      ],
      "source": [
        "# Testing data shape\n",
        "final_test=test_users.merge(sessions_final,left_on=['id'],\n",
        "                               right_on=['user_id'],how='left').drop(['user_id'],axis=1).reset_index(drop=True)\n",
        "final_test.shape"
      ]
    },
    {
      "cell_type": "code",
      "execution_count": null,
      "metadata": {
        "colab": {
          "base_uri": "https://localhost:8080/"
        },
        "id": "QUTH9NlMR6hW",
        "outputId": "7f4f750d-27cc-49e3-9982-45f83f7fd582"
      },
      "outputs": [
        {
          "name": "stdout",
          "output_type": "stream",
          "text": [
            "<class 'pandas.core.frame.DataFrame'>\n",
            "RangeIndex: 73406 entries, 0 to 73405\n",
            "Data columns (total 64 columns):\n",
            " #   Column                        Non-Null Count  Dtype  \n",
            "---  ------                        --------------  -----  \n",
            " 0   id                            73406 non-null  object \n",
            " 1   gender                        73406 non-null  object \n",
            " 2   age                           73406 non-null  int32  \n",
            " 3   signup_method                 73406 non-null  object \n",
            " 4   signup_flow                   73406 non-null  int64  \n",
            " 5   language                      73406 non-null  object \n",
            " 6   affiliate_channel             73406 non-null  object \n",
            " 7   affiliate_provider            73406 non-null  object \n",
            " 8   first_affiliate_tracked       73406 non-null  object \n",
            " 9   signup_app                    73406 non-null  object \n",
            " 10  first_device_type             73406 non-null  object \n",
            " 11  first_browser                 73406 non-null  object \n",
            " 12  country_destination           73406 non-null  object \n",
            " 13  TFA_year                      73406 non-null  int64  \n",
            " 14  TFA_month                     73406 non-null  int64  \n",
            " 15  TFA_day                       73406 non-null  int64  \n",
            " 16  DAC_year                      73406 non-null  int64  \n",
            " 17  DAC_month                     73406 non-null  int64  \n",
            " 18  DAC_day                       73406 non-null  int64  \n",
            " 19  count_actions                 73406 non-null  int64  \n",
            " 20  num_unique_actions            73406 non-null  int64  \n",
            " 21  total_secs_elapsed            73406 non-null  float64\n",
            " 22  max_secs_elapsed              73406 non-null  float64\n",
            " 23  avg_secs_elapsed              73406 non-null  float64\n",
            " 24  num_devices_used              73406 non-null  int64  \n",
            " 25  action_type_-unknown-         73406 non-null  uint8  \n",
            " 26  action_type_Other             73406 non-null  uint8  \n",
            " 27  action_type_booking_request   73406 non-null  uint8  \n",
            " 28  action_type_booking_response  73406 non-null  uint8  \n",
            " 29  action_type_click             73406 non-null  uint8  \n",
            " 30  action_type_data              73406 non-null  uint8  \n",
            " 31  action_type_message_post      73406 non-null  uint8  \n",
            " 32  action_type_modify            73406 non-null  uint8  \n",
            " 33  action_type_partner_callback  73406 non-null  uint8  \n",
            " 34  action_type_submit            73406 non-null  uint8  \n",
            " 35  action_type_view              73406 non-null  uint8  \n",
            " 36  secs_elapsed                  73406 non-null  float64\n",
            " 37  total_quick_actions           73406 non-null  int64  \n",
            " 38  total_careful_actions         73406 non-null  int64  \n",
            " 39  total_pause_actions           73406 non-null  int64  \n",
            " 40  total_afk_actions             73406 non-null  int64  \n",
            " 41  total_long_afk_actions        73406 non-null  int64  \n",
            " 42  apply_coupon                  73406 non-null  int64  \n",
            " 43  cancellation_actions          73406 non-null  int64  \n",
            " 44  phone_actions                 73406 non-null  int64  \n",
            " 45  message_actions               73406 non-null  int64  \n",
            " 46  profile_actions               73406 non-null  int64  \n",
            " 47  listing_actions               73406 non-null  int64  \n",
            " 48  notification_actions          73406 non-null  int64  \n",
            " 49  social_connections            73406 non-null  int64  \n",
            " 50  at_checkpoint                 73406 non-null  int64  \n",
            " 51  change_actions                73406 non-null  int64  \n",
            " 52  confirm_email                 73406 non-null  int64  \n",
            " 53  contact_host                  73406 non-null  int64  \n",
            " 54  dashboard                     73406 non-null  int64  \n",
            " 55  your_trips                    73406 non-null  int64  \n",
            " 56  reservations                  73406 non-null  int64  \n",
            " 57  oauth_login                   73406 non-null  int64  \n",
            " 58  oauth_response                73406 non-null  int64  \n",
            " 59  listing_reviews               73406 non-null  int64  \n",
            " 60  p1_indicator                  73406 non-null  int64  \n",
            " 61  p3_indicator                  73406 non-null  int64  \n",
            " 62  p4_indicator                  73406 non-null  int64  \n",
            " 63  p5_indicator                  73406 non-null  int64  \n",
            "dtypes: float64(4), int32(1), int64(37), object(11), uint8(11)\n",
            "memory usage: 30.2+ MB\n"
          ]
        }
      ],
      "source": [
        "# Info for train data\n",
        "final_train.info()"
      ]
    },
    {
      "cell_type": "code",
      "execution_count": null,
      "metadata": {
        "colab": {
          "base_uri": "https://localhost:8080/"
        },
        "id": "XS0RBfMFR6hW",
        "outputId": "a90a2024-79c4-4be1-8ee4-d602bee7e5b0"
      },
      "outputs": [
        {
          "name": "stdout",
          "output_type": "stream",
          "text": [
            "<class 'pandas.core.frame.DataFrame'>\n",
            "RangeIndex: 62096 entries, 0 to 62095\n",
            "Data columns (total 63 columns):\n",
            " #   Column                        Non-Null Count  Dtype  \n",
            "---  ------                        --------------  -----  \n",
            " 0   id                            62096 non-null  object \n",
            " 1   gender                        62096 non-null  object \n",
            " 2   age                           62096 non-null  int32  \n",
            " 3   signup_method                 62096 non-null  object \n",
            " 4   signup_flow                   62096 non-null  int64  \n",
            " 5   language                      62096 non-null  object \n",
            " 6   affiliate_channel             62096 non-null  object \n",
            " 7   affiliate_provider            62096 non-null  object \n",
            " 8   first_affiliate_tracked       62096 non-null  object \n",
            " 9   signup_app                    62096 non-null  object \n",
            " 10  first_device_type             62096 non-null  object \n",
            " 11  first_browser                 62096 non-null  object \n",
            " 12  TFA_year                      62096 non-null  int64  \n",
            " 13  TFA_month                     62096 non-null  int64  \n",
            " 14  TFA_day                       62096 non-null  int64  \n",
            " 15  DAC_year                      62096 non-null  int64  \n",
            " 16  DAC_month                     62096 non-null  int64  \n",
            " 17  DAC_day                       62096 non-null  int64  \n",
            " 18  count_actions                 61637 non-null  float64\n",
            " 19  num_unique_actions            61637 non-null  float64\n",
            " 20  total_secs_elapsed            61637 non-null  float64\n",
            " 21  max_secs_elapsed              61637 non-null  float64\n",
            " 22  avg_secs_elapsed              61637 non-null  float64\n",
            " 23  num_devices_used              61637 non-null  float64\n",
            " 24  action_type_-unknown-         61637 non-null  float64\n",
            " 25  action_type_Other             61637 non-null  float64\n",
            " 26  action_type_booking_request   61637 non-null  float64\n",
            " 27  action_type_booking_response  61637 non-null  float64\n",
            " 28  action_type_click             61637 non-null  float64\n",
            " 29  action_type_data              61637 non-null  float64\n",
            " 30  action_type_message_post      61637 non-null  float64\n",
            " 31  action_type_modify            61637 non-null  float64\n",
            " 32  action_type_partner_callback  61637 non-null  float64\n",
            " 33  action_type_submit            61637 non-null  float64\n",
            " 34  action_type_view              61637 non-null  float64\n",
            " 35  secs_elapsed                  61637 non-null  float64\n",
            " 36  total_quick_actions           61637 non-null  float64\n",
            " 37  total_careful_actions         61637 non-null  float64\n",
            " 38  total_pause_actions           61637 non-null  float64\n",
            " 39  total_afk_actions             61637 non-null  float64\n",
            " 40  total_long_afk_actions        61637 non-null  float64\n",
            " 41  apply_coupon                  61637 non-null  float64\n",
            " 42  cancellation_actions          61637 non-null  float64\n",
            " 43  phone_actions                 61637 non-null  float64\n",
            " 44  message_actions               61637 non-null  float64\n",
            " 45  profile_actions               61637 non-null  float64\n",
            " 46  listing_actions               61637 non-null  float64\n",
            " 47  notification_actions          61637 non-null  float64\n",
            " 48  social_connections            61637 non-null  float64\n",
            " 49  at_checkpoint                 61637 non-null  float64\n",
            " 50  change_actions                61637 non-null  float64\n",
            " 51  confirm_email                 61637 non-null  float64\n",
            " 52  contact_host                  61637 non-null  float64\n",
            " 53  dashboard                     61637 non-null  float64\n",
            " 54  your_trips                    61637 non-null  float64\n",
            " 55  reservations                  61637 non-null  float64\n",
            " 56  oauth_login                   61637 non-null  float64\n",
            " 57  oauth_response                61637 non-null  float64\n",
            " 58  listing_reviews               61637 non-null  float64\n",
            " 59  p1_indicator                  61637 non-null  float64\n",
            " 60  p3_indicator                  61637 non-null  float64\n",
            " 61  p4_indicator                  61637 non-null  float64\n",
            " 62  p5_indicator                  61637 non-null  float64\n",
            "dtypes: float64(45), int32(1), int64(7), object(10)\n",
            "memory usage: 29.6+ MB\n"
          ]
        }
      ],
      "source": [
        "# Info for test data\n",
        "final_test.info()"
      ]
    },
    {
      "cell_type": "code",
      "execution_count": null,
      "metadata": {
        "id": "9HcSuAKVR6hW"
      },
      "outputs": [],
      "source": [
        "# fill up missing values \n",
        "final_test.iloc[:,18:]=final_test.iloc[:,18:].fillna(-1)  "
      ]
    },
    {
      "cell_type": "code",
      "execution_count": null,
      "metadata": {
        "id": "upTt8qhCR6hW"
      },
      "outputs": [],
      "source": [
        "# One hot encode other categorical variables\n",
        "cat_cols = ['gender', \n",
        "            'signup_method',\n",
        "            'first_device_type', \n",
        "            'first_browser', \n",
        "            'language', \n",
        "            'affiliate_channel', \n",
        "            'affiliate_provider', \n",
        "            'first_affiliate_tracked', \n",
        "            'signup_app']\n",
        "\n",
        "OHE_COLS = []\n",
        "\n",
        "for col in cat_cols:\n",
        "    train_one_hot_cols = pd.get_dummies(final_train[col],prefix = col)\n",
        "    final_train.drop([col], axis = 1, inplace = True)\n",
        "\n",
        "    test_one_hot_cols = pd.get_dummies(final_test[col],prefix = col)\n",
        "    final_test.drop([col], axis = 1, inplace = True)\n",
        "        \n",
        "\n",
        "    OHE_COLS.append(train_one_hot_cols.columns)\n",
        "    \n",
        "    # Get missing columns in the training test\n",
        "    missing_cols = set( train_one_hot_cols.columns ) - set( test_one_hot_cols.columns )\n",
        "    for column in missing_cols:\n",
        "        \n",
        "        test_one_hot_cols[column] = 0\n",
        "    \n",
        "    test_one_hot_cols = test_one_hot_cols[train_one_hot_cols.columns]\n",
        "    \n",
        "    final_train = pd.concat((final_train, train_one_hot_cols), axis=1)    \n",
        " \n",
        "        \n",
        "    final_test = pd.concat((final_test, test_one_hot_cols), axis=1)\n",
        "\n",
        "        "
      ]
    },
    {
      "cell_type": "code",
      "execution_count": null,
      "metadata": {
        "colab": {
          "base_uri": "https://localhost:8080/"
        },
        "id": "vv8TjxWIR6hX",
        "outputId": "aa4cd602-9836-42fa-ea4e-99874d245665"
      },
      "outputs": [
        {
          "data": {
            "text/plain": [
              "((73406, 166), (73406, 164), (73406,))"
            ]
          },
          "execution_count": 58,
          "metadata": {},
          "output_type": "execute_result"
        }
      ],
      "source": [
        "# Label encode the target variable i.e, country_destination\n",
        "labels = final_train.country_destination\n",
        "le = LabelEncoder()\n",
        "y_train = le.fit_transform(labels) \n",
        "test_id = final_test.id\n",
        "X_test = final_test.drop(['id'], axis='columns')\n",
        "\n",
        "X_train = final_train.drop(['id','country_destination'], axis=1)\n",
        "\n",
        "final_train.shape,X_train.shape,y_train.shape"
      ]
    },
    {
      "cell_type": "code",
      "execution_count": null,
      "metadata": {
        "colab": {
          "base_uri": "https://localhost:8080/"
        },
        "id": "UXCKDWVuXZ1w",
        "outputId": "4b5505de-3f41-4694-aaf3-601bd993e174"
      },
      "outputs": [
        {
          "data": {
            "text/plain": [
              "{'AU': 0,\n",
              " 'CA': 1,\n",
              " 'DE': 2,\n",
              " 'ES': 3,\n",
              " 'FR': 4,\n",
              " 'GB': 5,\n",
              " 'IT': 6,\n",
              " 'NDF': 7,\n",
              " 'NL': 8,\n",
              " 'PT': 9,\n",
              " 'US': 10,\n",
              " 'other': 11}"
            ]
          },
          "execution_count": 60,
          "metadata": {},
          "output_type": "execute_result"
        }
      ],
      "source": [
        "# final_train[['country_destination']]\n",
        "country_mapping = dict(zip(le.classes_, le.transform(le.classes_)))\n",
        "country_mapping"
      ]
    },
    {
      "cell_type": "markdown",
      "metadata": {
        "id": "gRq5kWFBfnQV"
      },
      "source": [
        "# 3. Model Building"
      ]
    },
    {
      "cell_type": "code",
      "execution_count": null,
      "metadata": {
        "id": "CQUQ-24eR6hX"
      },
      "outputs": [],
      "source": [
        "def cross_validation_with_ndcg(model, X, y, scorer, cv=5):\n",
        "    skf = StratifiedKFold(n_splits=cv, shuffle=True, random_state=100)\n",
        "    # initialize score array\n",
        "    scores = []\n",
        "    for train_index, holdout_index in skf.split(X, y):\n",
        "        X_train, X_test = X.iloc[train_index], X.iloc[holdout_index]\n",
        "        y_train, y_test = y[train_index], y[holdout_index]\n",
        "        model.fit(X_train, y_train)\n",
        "        predict = model.predict_proba(X_test)\n",
        "        y_test = pd.get_dummies(y_test).to_numpy()\n",
        "        score = scorer(y_test, predict)\n",
        "        scores.append(round(score, 6))\n",
        "        print(f'{len(scores)} / {cv} DONE!', end='\\r')\n",
        "    return scores\n"
      ]
    },
    {
      "cell_type": "markdown",
      "metadata": {
        "id": "37UkigpKfnNw"
      },
      "source": [
        "## 3.1 Logistic Regression - Multinomial"
      ]
    },
    {
      "cell_type": "code",
      "execution_count": null,
      "metadata": {
        "colab": {
          "base_uri": "https://localhost:8080/"
        },
        "id": "O6QMi_tZgOqD",
        "outputId": "e1c1b5c1-3312-42d7-e5a4-a7b5452458c2"
      },
      "outputs": [
        {
          "data": {
            "text/plain": [
              "LogisticRegression(multi_class='multinomial', n_jobs=-1, solver='newton-cg')"
            ]
          },
          "execution_count": 37,
          "metadata": {},
          "output_type": "execute_result"
        }
      ],
      "source": [
        "from sklearn.linear_model import LogisticRegression\n",
        "logr_mlt = LogisticRegression(n_jobs=-1,multi_class='multinomial',solver='newton-cg')\n",
        "logr_mlt.fit(X_train, y_train)"
      ]
    },
    {
      "cell_type": "code",
      "execution_count": null,
      "metadata": {
        "colab": {
          "base_uri": "https://localhost:8080/"
        },
        "id": "SZyfm7uwvujT",
        "outputId": "17bab17e-0cd5-4b49-dbd3-c41aab9feef3"
      },
      "outputs": [
        {
          "name": "stdout",
          "output_type": "stream",
          "text": []
        },
        {
          "data": {
            "text/plain": [
              "[0.831432, 0.833737, 0.832887, 0.831906, 0.831543]"
            ]
          },
          "execution_count": 39,
          "metadata": {},
          "output_type": "execute_result"
        }
      ],
      "source": [
        "cross_validation_with_ndcg(logr_mlt, X_train,y_train, ndcg_score, cv=5)"
      ]
    },
    {
      "cell_type": "markdown",
      "metadata": {
        "id": "NEnI-O3YfmDV"
      },
      "source": [
        "## 3.2 Bernoulli Naive Bayes"
      ]
    },
    {
      "cell_type": "code",
      "execution_count": null,
      "metadata": {
        "colab": {
          "base_uri": "https://localhost:8080/"
        },
        "id": "4GpC76GLgWZI",
        "outputId": "4f4dd6e8-d9e5-4aeb-fb2c-189933e4268a"
      },
      "outputs": [
        {
          "name": "stdout",
          "output_type": "stream",
          "text": [
            "{'alpha': 779, 'fit_prior': 'True'}\n"
          ]
        },
        {
          "data": {
            "text/plain": [
              "BernoulliNB(alpha=779)"
            ]
          },
          "execution_count": 40,
          "metadata": {},
          "output_type": "execute_result"
        }
      ],
      "source": [
        "from sklearn.model_selection import GridSearchCV\n",
        "from sklearn.naive_bayes import BernoulliNB\n",
        "\n",
        "bnb = BernoulliNB()\n",
        "bnb = bnb.fit(X_train, y_train)\n",
        "\n",
        "parameters = {'alpha': (list(range(500,1000))),\n",
        "             'fit_prior':['True','False']}\n",
        "\n",
        "bnb = GridSearchCV(bnb, parameters, cv=5)\n",
        "bnb.fit(X_train, y_train)\n",
        "\n",
        "print(bnb.best_params_)\n",
        "\n",
        "\n",
        "model_2 = BernoulliNB(alpha=779, fit_prior=True)\n",
        "model_2.fit(X_train, y_train)"
      ]
    },
    {
      "cell_type": "markdown",
      "metadata": {
        "id": "AhGUMtKulqxw"
      },
      "source": [
        "NDCG Score in cross validation"
      ]
    },
    {
      "cell_type": "code",
      "execution_count": null,
      "metadata": {
        "colab": {
          "base_uri": "https://localhost:8080/"
        },
        "id": "-XXOMefekP-m",
        "outputId": "a15de797-8faf-45d4-b0b9-ffbaf7999ddd"
      },
      "outputs": [
        {
          "name": "stdout",
          "output_type": "stream",
          "text": []
        },
        {
          "data": {
            "text/plain": [
              "[0.851368, 0.851923, 0.852095, 0.851625, 0.849195]"
            ]
          },
          "execution_count": 42,
          "metadata": {},
          "output_type": "execute_result"
        }
      ],
      "source": [
        "cross_validation_with_ndcg(model_2, X_train,y_train, ndcg_score, cv=5)"
      ]
    },
    {
      "cell_type": "markdown",
      "metadata": {
        "id": "GKkMCc1bfl8D"
      },
      "source": [
        "## 3.3 Decision Tree Classifier"
      ]
    },
    {
      "cell_type": "code",
      "execution_count": null,
      "metadata": {
        "id": "cF0xGEXIpEiJ"
      },
      "outputs": [],
      "source": [
        "from sklearn.tree import DecisionTreeClassifier\n",
        "change = ['TFA_year', 'TFA_month', 'TFA_day', 'DAC_year', 'DAC_month', 'DAC_day']\n",
        "for var in change:\n",
        "  X_train[change] = X_train[change].astype('int32')\n",
        "\n",
        "best_dt = DecisionTreeClassifier(max_depth=29, max_features=22, max_leaf_nodes=12,random_state=100)"
      ]
    },
    {
      "cell_type": "markdown",
      "metadata": {
        "id": "FdONIxj8pHlk"
      },
      "source": [
        "NDCG Score in cross validation"
      ]
    },
    {
      "cell_type": "code",
      "execution_count": null,
      "metadata": {
        "colab": {
          "base_uri": "https://localhost:8080/"
        },
        "id": "ojna8t0lgW0j",
        "outputId": "6329639a-cf5e-4549-b828-7ff4efd6ddc6"
      },
      "outputs": [
        {
          "name": "stdout",
          "output_type": "stream",
          "text": []
        },
        {
          "data": {
            "text/plain": [
              "[0.849418, 0.855212, 0.854746, 0.851849, 0.847228]"
            ]
          },
          "execution_count": 44,
          "metadata": {},
          "output_type": "execute_result"
        }
      ],
      "source": [
        "cross_validation_with_ndcg(best_dt, X_train,y_train, ndcg_score, cv=5)"
      ]
    },
    {
      "cell_type": "code",
      "execution_count": null,
      "metadata": {
        "colab": {
          "base_uri": "https://localhost:8080/"
        },
        "id": "TmZuMKaChhpl",
        "outputId": "b86cc122-526d-4ac1-83f9-487f3a698206"
      },
      "outputs": [
        {
          "data": {
            "text/plain": [
              "DecisionTreeClassifier(max_depth=29, max_features=22, max_leaf_nodes=12,\n",
              "                       random_state=100)"
            ]
          },
          "execution_count": 45,
          "metadata": {},
          "output_type": "execute_result"
        }
      ],
      "source": [
        "best_dt.fit(X_train, y_train)"
      ]
    },
    {
      "cell_type": "markdown",
      "metadata": {
        "id": "BSsXrqcSfrGV"
      },
      "source": [
        "## 3.4  Random Forest Classifier"
      ]
    },
    {
      "cell_type": "code",
      "execution_count": null,
      "metadata": {
        "id": "Ntmg50YLpMgx"
      },
      "outputs": [],
      "source": [
        "from sklearn.ensemble import RandomForestClassifier\n",
        "best_rf = RandomForestClassifier(max_depth=5, max_features=14, max_leaf_nodes=16, n_estimators=700, random_state=100)"
      ]
    },
    {
      "cell_type": "markdown",
      "metadata": {
        "id": "taFM3QfRpOua"
      },
      "source": [
        "NDCG score in cross validation"
      ]
    },
    {
      "cell_type": "code",
      "execution_count": null,
      "metadata": {
        "colab": {
          "base_uri": "https://localhost:8080/"
        },
        "id": "t63E6IA5gXQ9",
        "outputId": "656d0627-095c-4cb1-c4c8-a0bb831dec58"
      },
      "outputs": [
        {
          "name": "stdout",
          "output_type": "stream",
          "text": []
        },
        {
          "data": {
            "text/plain": [
              "[0.853067, 0.854425, 0.854665, 0.854523, 0.85271]"
            ]
          },
          "execution_count": 47,
          "metadata": {},
          "output_type": "execute_result"
        }
      ],
      "source": [
        "cross_validation_with_ndcg(best_rf, X_train,y_train, ndcg_score, cv=5)"
      ]
    },
    {
      "cell_type": "code",
      "execution_count": null,
      "metadata": {
        "colab": {
          "base_uri": "https://localhost:8080/"
        },
        "id": "fXpRbtP-hl32",
        "outputId": "f9cf6dd6-333f-40af-c452-adc9d61cd6dd"
      },
      "outputs": [
        {
          "data": {
            "text/plain": [
              "RandomForestClassifier(max_depth=5, max_features=14, max_leaf_nodes=16,\n",
              "                       n_estimators=700, random_state=100)"
            ]
          },
          "execution_count": 48,
          "metadata": {},
          "output_type": "execute_result"
        }
      ],
      "source": [
        "best_rf.fit(X_train, y_train)"
      ]
    },
    {
      "cell_type": "markdown",
      "metadata": {
        "id": "F5G8FqVlfl0v"
      },
      "source": [
        "## 3.5 XGBoost Classifer"
      ]
    },
    {
      "cell_type": "code",
      "execution_count": null,
      "metadata": {
        "id": "U0SSkmyeR6hX"
      },
      "outputs": [],
      "source": [
        "model_1 = XGBClassifier(max_depth=5,learning_rate=0.1, n_estimators=200,verbosity=1,\n",
        "                              objective='multi:softprob',n_jobs=-1)"
      ]
    },
    {
      "cell_type": "markdown",
      "metadata": {
        "id": "-5uTCtJvqBf0"
      },
      "source": [
        "NDCG Score in cross validation"
      ]
    },
    {
      "cell_type": "code",
      "execution_count": null,
      "metadata": {
        "colab": {
          "base_uri": "https://localhost:8080/"
        },
        "id": "FJ0TgPXvR6hX",
        "outputId": "4e79108d-e297-4eff-d8fa-a87fcdd99cdb"
      },
      "outputs": [
        {
          "name": "stdout",
          "output_type": "stream",
          "text": []
        },
        {
          "data": {
            "text/plain": [
              "[0.864169, 0.865258, 0.866509, 0.864964, 0.863089]"
            ]
          },
          "execution_count": 50,
          "metadata": {},
          "output_type": "execute_result"
        }
      ],
      "source": [
        "cross_validation_with_ndcg(model_1, X_train,y_train, ndcg_score, cv=5)"
      ]
    },
    {
      "cell_type": "code",
      "execution_count": null,
      "metadata": {
        "colab": {
          "base_uri": "https://localhost:8080/"
        },
        "id": "G3WHAva8R6hX",
        "outputId": "f02fc6c5-5576-4428-bcb0-0685f1927d3e"
      },
      "outputs": [
        {
          "data": {
            "text/plain": [
              "XGBClassifier(max_depth=5, n_estimators=200, n_jobs=-1,\n",
              "              objective='multi:softprob', verbosity=0)"
            ]
          },
          "execution_count": 51,
          "metadata": {},
          "output_type": "execute_result"
        }
      ],
      "source": [
        "xg_model = XGBClassifier(max_depth=5,learning_rate=0.1, n_estimators=200,verbosity=0,objective='multi:softprob',n_jobs=-1)\n",
        "xg_model.fit(X_train, y_train)\n"
      ]
    },
    {
      "cell_type": "markdown",
      "metadata": {
        "id": "CLJrfzhwgaLC"
      },
      "source": [
        "Make Submission (for kaggle)"
      ]
    },
    {
      "cell_type": "code",
      "execution_count": null,
      "metadata": {
        "id": "3Pf8co0DR6hX"
      },
      "outputs": [],
      "source": [
        "def make_submisson(model_name, predict):\n",
        "  ids = []\n",
        "  cts = []\n",
        "  for i in range(len(test_id)):\n",
        "      idx = test_id[i]\n",
        "      ids += [idx] * 5\n",
        "      cts += le.inverse_transform(np.argsort(predict[i])[::-1])[:5].tolist()\n",
        "  sub_df = pd.DataFrame(np.column_stack((ids, cts)), columns=['id', 'country'])\n",
        "  sub_df.to_csv(f'{model_name}_submission.csv',index=False)  "
      ]
    },
    {
      "cell_type": "markdown",
      "metadata": {
        "id": "9sOvERnK4SqQ"
      },
      "source": [
        "# Feature Importance"
      ]
    },
    {
      "cell_type": "code",
      "execution_count": null,
      "metadata": {
        "id": "XvibY66y3ZP0"
      },
      "outputs": [],
      "source": [
        "'''\n",
        "weight: XGBoost contains several decision trees. In each of them, you'll use some set of features to classify the bootstrap sample.\n",
        "This type basically counts how many times your feature is used in your trees for splitting purposes.\n",
        "'''\n",
        "\n",
        "feature_importance = xg_model.get_booster().get_score(importance_type='weight')\n",
        "keys = list(feature_importance.keys())\n",
        "values = list(feature_importance.values())\n",
        "\n",
        "data = pd.DataFrame(data=values, index=keys, columns=[\"score\"]).sort_values(by = \"score\", ascending=False).reset_index()\n",
        "data.columns = ['feature_name','score']\n",
        "fig = px.bar(data[:20], x='feature_name', y='score',\n",
        "            color = data['score'][:20], color_continuous_scale=px.colors.sequential.Pinkyl)\n",
        "\n",
        "layout = dict(\n",
        "    title_text = \"<b> Top 10 features for XGBoost model by weight</b>\",\n",
        "    xaxis_title=\" Feature Name\",\n",
        "    yaxis_title=\"Importance\",\n",
        "    title_x = 0.5)\n",
        "\n",
        "fig.update_layout(layout,font_family=\"Arial\", font_size = 12, title_x = 0.5, \n",
        "                     yaxis={'categoryorder':'total ascending'}, template = 'simple_white')\n",
        "fig.show()"
      ]
    },
    {
      "cell_type": "markdown",
      "metadata": {
        "id": "P5rFWmnc46QO"
      },
      "source": [
        "![newplot.png](data:image/png;base64,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)"
      ]
    },
    {
      "cell_type": "code",
      "execution_count": null,
      "metadata": {
        "id": "jyP5TYbZ4pnh"
      },
      "outputs": [],
      "source": [
        "'''\n",
        "Gain implies the relative contribution of the corresponding feature to the model calculated by taking each feature’s contribution for each tree in the model. \n",
        "A higher value of this metric when compared to another feature implies it is more important for generating a prediction \n",
        "'''\n",
        "\n",
        "feature_importance = xg_model.get_booster().get_score(importance_type='gain')\n",
        "keys = list(feature_importance.keys())\n",
        "values = list(feature_importance.values())\n",
        "\n",
        "data = pd.DataFrame(data=values, index=keys, columns=[\"score\"]).sort_values(by = \"score\", ascending=False).reset_index()\n",
        "data.columns = ['feature_name','score']\n",
        "fig = px.bar(data[:20], x='feature_name', y='score',\n",
        "            color = data['score'][:20], color_continuous_scale=px.colors.sequential.Pinkyl)\n",
        "\n",
        "layout = dict(\n",
        "    title_text = \"<b> Top 10 features for XGBoost model by gain</b>\",\n",
        "    xaxis_title=\" Feature Name\",\n",
        "    yaxis_title=\"Importance\",\n",
        "    title_x = 0.5)\n",
        "\n",
        "fig.update_layout(layout,font_family=\"Arial\", font_size = 12, title_x = 0.5, \n",
        "                     yaxis={'categoryorder':'total ascending'}, template = 'simple_white')\n",
        "fig.show()"
      ]
    },
    {
      "cell_type": "markdown",
      "metadata": {
        "id": "y0oif1HL5AKS"
      },
      "source": [
        "![newplot.png](data:image/png;base64,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)"
      ]
    },
    {
      "cell_type": "code",
      "execution_count": null,
      "metadata": {
        "id": "YzQ4IS-BCOf4"
      },
      "outputs": [],
      "source": []
    }
  ],
  "metadata": {
    "accelerator": "GPU",
    "colab": {
      "collapsed_sections": [],
      "name": "airbnb_model_submit.ipynb",
      "provenance": []
    },
    "gpuClass": "standard",
    "kernelspec": {
      "display_name": "Python 3.9.5 64-bit",
      "language": "python",
      "name": "python3"
    },
    "language_info": {
      "codemirror_mode": {
        "name": "ipython",
        "version": 3
      },
      "file_extension": ".py",
      "mimetype": "text/x-python",
      "name": "python",
      "nbconvert_exporter": "python",
      "pygments_lexer": "ipython3",
      "version": "3.9.5"
    },
    "vscode": {
      "interpreter": {
        "hash": "069c70343dd76e1c179bd4fddc9c897722d1b4fce3308a2d7df86b5b0e7c46af"
      }
    }
  },
  "nbformat": 4,
  "nbformat_minor": 0
}
